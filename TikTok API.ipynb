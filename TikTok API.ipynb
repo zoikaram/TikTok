{
 "cells": [
  {
   "cell_type": "markdown",
   "metadata": {},
   "source": [
    "# Collecting Data from TikTok"
   ]
  },
  {
   "cell_type": "markdown",
   "metadata": {},
   "source": [
    "Lately, everyone must have heard something about the relatively recent (2017) social media platform TikTok. It became more famous during the COVID-19 pandemic outbreak and now it is a hype (source: https://www.businessofapps.com/data/tik-tok-statistics/). Therefore, collecting data from TikTok can answer to a lot of sociological questions. In this assignment, we will collect data from TikTok using the package TikTokApi, selecting the 500 most recent TikToks of the top 10 TikTokers in the world. \n",
    "\n",
    "First aim is to present statistics about the content of the videos based on their description including hashtags. We want to see what are the most popular TikTok videos about. It can be easily observed that the majority of the top TikTokers are singers or dancers. Thus, it would be interesting to conduct a model that can predict whether the creator is a singer/dancer or something else.\n",
    "\n",
    "According to the US National Center of Biotechnology Information (NCBI) (sourse: https://www.ncbi.nlm.nih.gov/pmc/articles/PMC7455791/), last summer, numerous trending posts were related to COVID-19. So what about the COVID related videos on TikTok this period that the pandemic is not in its peak?"
   ]
  },
  {
   "cell_type": "markdown",
   "metadata": {},
   "source": [
    "# Scraping Wikipedia"
   ]
  },
  {
   "cell_type": "markdown",
   "metadata": {},
   "source": [
    "We want to find the top 10 TikTokers in the world. This information can be obtained from the respective matrix on Wikipedia. With this technique, our code will always be up-to-date with respect to the most popular TikTok creators. It is worth to mention that the oreder is defined according to the number of followers."
   ]
  },
  {
   "cell_type": "code",
   "execution_count": 21,
   "metadata": {},
   "outputs": [],
   "source": [
    "import pandas as pd"
   ]
  },
  {
   "cell_type": "code",
   "execution_count": 22,
   "metadata": {},
   "outputs": [],
   "source": [
    "url = \"https://en.wikipedia.org/wiki/List_of_most-followed_TikTok_accounts\"\n",
    "table_list = pd.read_html(url)\n",
    "df_table = table_list[0]"
   ]
  },
  {
   "cell_type": "code",
   "execution_count": 24,
   "metadata": {
    "scrolled": true
   },
   "outputs": [],
   "source": [
    "def removeAt(x):\n",
    "    result = x.split(sep = \"@\")[1]\n",
    "    return result    "
   ]
  },
  {
   "cell_type": "code",
   "execution_count": 26,
   "metadata": {},
   "outputs": [],
   "source": [
    "top10 = df_table['Username'][0:11].apply(lambda x:removeAt(x))"
   ]
  },
  {
   "cell_type": "code",
   "execution_count": 28,
   "metadata": {},
   "outputs": [
    {
     "data": {
      "text/plain": [
       "0     charlidamelio\n",
       "1         addisonre\n",
       "2       bellapoarch\n",
       "3        khaby.lame\n",
       "4          zachking\n",
       "5         willsmith\n",
       "6            tiktok\n",
       "7          spencerx\n",
       "8         lorengray\n",
       "9      dixiedamelio\n",
       "10        justmaiko\n",
       "Name: Username, dtype: object"
      ]
     },
     "execution_count": 28,
     "metadata": {},
     "output_type": "execute_result"
    }
   ],
   "source": [
    "top10"
   ]
  },
  {
   "cell_type": "markdown",
   "metadata": {},
   "source": [
    "## TikTokApi"
   ]
  },
  {
   "cell_type": "markdown",
   "metadata": {},
   "source": [
    "Prior we collect the data, we need a chromedriver.exe saved in a path named \"PATH\" of the local drive"
   ]
  },
  {
   "cell_type": "code",
   "execution_count": 1,
   "metadata": {},
   "outputs": [],
   "source": [
    "from selenium import webdriver\n",
    "from TikTokApi import TikTokApi\n",
    "PATH = 'C:\\Program Files\\chromedriver.exe'"
   ]
  },
  {
   "cell_type": "markdown",
   "metadata": {},
   "source": [
    "The verifyFp is a code we get from cookies."
   ]
  },
  {
   "cell_type": "code",
   "execution_count": 2,
   "metadata": {},
   "outputs": [],
   "source": [
    "verifyFp = 'verify_kor71g5k_mhy4rYzt_Lb3L_4XrJ_8oy0_cG60n6nZ5VGi'\n",
    "ver = 'verify_kpqvda8y_aVlBhoGf_hqxN_4QJz_Bfht_Fv6eawsc2wRw'\n",
    "api = TikTokApi.get_instance(custom_verifyFp = ver, use_test_endpoints = True, use_selenium = True, executablePath = PATH)"
   ]
  },
  {
   "cell_type": "code",
   "execution_count": 3,
   "metadata": {},
   "outputs": [],
   "source": [
    "charlidamelio = api.by_username(username='charlidamelio', count = 500)\n",
    "addisonre = api.by_username(username='addisonre', count = 500)\n",
    "bellapoarch = api.by_username(username='bellapoarch', count = 500)\n",
    "zachking = api.by_username(username='zachking', count = 500)\n",
    "tiktok = api.by_username(username='tiktok', count = 500)\n",
    "spencerx = api.by_username(username='spencerx', count = 500)\n",
    "willsmith = api.by_username(username='willsmith', count = 500)\n",
    "lorengray = api.by_username(username='lorengray', count = 500)\n",
    "dixiedamelio = api.by_username(username='dixiedamelio', count = 500)\n",
    "justmaiko = api.by_username(username='justmaiko', count = 500)"
   ]
  },
  {
   "cell_type": "markdown",
   "metadata": {},
   "source": [
    "# Data Frame"
   ]
  },
  {
   "cell_type": "code",
   "execution_count": 33,
   "metadata": {},
   "outputs": [],
   "source": [
    "import json\n",
    "from pandas.io.json import json_normalize\n",
    "import pandas as pd"
   ]
  },
  {
   "cell_type": "code",
   "execution_count": 5,
   "metadata": {},
   "outputs": [],
   "source": [
    "with open('charlidamelio.jason', 'w') as json_file:\n",
    "    json.dump(charlidamelio, json_file)\n",
    "with open('addisonre.jason', 'w') as json_file:\n",
    "    json.dump(addisonre, json_file)   \n",
    "with open('bellapoarch.jason', 'w') as json_file:\n",
    "    json.dump(bellapoarch, json_file)    \n",
    "with open('zachking.jason', 'w') as json_file:\n",
    "    json.dump(zachking, json_file)\n",
    "with open('tiktok.jason', 'w') as json_file:\n",
    "    json.dump(tiktok, json_file)\n",
    "with open('spencerx.jason', 'w') as json_file:\n",
    "    json.dump(spencerx, json_file)\n",
    "with open('willsmith.jason', 'w') as json_file:\n",
    "    json.dump(willsmith, json_file)\n",
    "with open('lorengray.jason', 'w') as json_file:\n",
    "    json.dump(lorengray, json_file)\n",
    "with open('dixiedamelio.jason', 'w') as json_file:\n",
    "    json.dump(dixiedamelio, json_file)\n",
    "with open('justmaiko.jason', 'w') as json_file:\n",
    "    json.dump(justmaiko, json_file)"
   ]
  },
  {
   "cell_type": "code",
   "execution_count": 6,
   "metadata": {},
   "outputs": [
    {
     "name": "stderr",
     "output_type": "stream",
     "text": [
      "<ipython-input-6-015003bd3f47>:1: FutureWarning: pandas.io.json.json_normalize is deprecated, use pandas.json_normalize instead\n",
      "  json_charlidamelio = json_normalize(charlidamelio)\n",
      "<ipython-input-6-015003bd3f47>:2: FutureWarning: pandas.io.json.json_normalize is deprecated, use pandas.json_normalize instead\n",
      "  json_addisonre = json_normalize(addisonre)\n",
      "<ipython-input-6-015003bd3f47>:3: FutureWarning: pandas.io.json.json_normalize is deprecated, use pandas.json_normalize instead\n",
      "  json_bellapoarch = json_normalize(bellapoarch)\n",
      "<ipython-input-6-015003bd3f47>:4: FutureWarning: pandas.io.json.json_normalize is deprecated, use pandas.json_normalize instead\n",
      "  json_zachking = json_normalize(zachking)\n",
      "<ipython-input-6-015003bd3f47>:5: FutureWarning: pandas.io.json.json_normalize is deprecated, use pandas.json_normalize instead\n",
      "  json_tiktok = json_normalize(tiktok)\n",
      "<ipython-input-6-015003bd3f47>:6: FutureWarning: pandas.io.json.json_normalize is deprecated, use pandas.json_normalize instead\n",
      "  json_spencerx = json_normalize(spencerx)\n",
      "<ipython-input-6-015003bd3f47>:7: FutureWarning: pandas.io.json.json_normalize is deprecated, use pandas.json_normalize instead\n",
      "  json_willsmith = json_normalize(willsmith)\n",
      "<ipython-input-6-015003bd3f47>:8: FutureWarning: pandas.io.json.json_normalize is deprecated, use pandas.json_normalize instead\n",
      "  json_lorengray = json_normalize(lorengray)\n",
      "<ipython-input-6-015003bd3f47>:9: FutureWarning: pandas.io.json.json_normalize is deprecated, use pandas.json_normalize instead\n",
      "  json_dixiedamelio = json_normalize(dixiedamelio)\n",
      "<ipython-input-6-015003bd3f47>:10: FutureWarning: pandas.io.json.json_normalize is deprecated, use pandas.json_normalize instead\n",
      "  json_justmaiko = json_normalize(justmaiko)\n"
     ]
    }
   ],
   "source": [
    "json_charlidamelio = json_normalize(charlidamelio)\n",
    "json_addisonre = json_normalize(addisonre)\n",
    "json_bellapoarch = json_normalize(bellapoarch)\n",
    "json_zachking = json_normalize(zachking)\n",
    "json_tiktok = json_normalize(tiktok)\n",
    "json_spencerx = json_normalize(spencerx)\n",
    "json_willsmith = json_normalize(willsmith)\n",
    "json_lorengray = json_normalize(lorengray)\n",
    "json_dixiedamelio = json_normalize(dixiedamelio)\n",
    "json_justmaiko = json_normalize(justmaiko)"
   ]
  },
  {
   "cell_type": "code",
   "execution_count": 7,
   "metadata": {},
   "outputs": [],
   "source": [
    "df_charlidamelio = pd.DataFrame(json_charlidamelio)\n",
    "df_addisonre = pd.DataFrame(json_addisonre)\n",
    "df_bellapoarch = pd.DataFrame(json_bellapoarch)\n",
    "df_zachking = pd.DataFrame(json_zachking)\n",
    "df_tiktok = pd.DataFrame(json_tiktok)\n",
    "df_spencerx = pd.DataFrame(json_spencerx)\n",
    "df_willsmith = pd.DataFrame(json_willsmith)\n",
    "df_lorengray = pd.DataFrame(json_lorengray)\n",
    "df_dixiedamelio = pd.DataFrame(json_dixiedamelio)\n",
    "df_justmaiko = pd.DataFrame(json_justmaiko)"
   ]
  },
  {
   "cell_type": "code",
   "execution_count": 26,
   "metadata": {},
   "outputs": [],
   "source": [
    "df = pd.concat([df_charlidamelio, df_addisonre, df_bellapoarch, df_zachking, df_tiktok, df_spencerx,\n",
    "               df_willsmith, df_lorengray, df_dixiedamelio, df_justmaiko], axis=0, ignore_index=True)"
   ]
  },
  {
   "cell_type": "code",
   "execution_count": 9,
   "metadata": {},
   "outputs": [
    {
     "data": {
      "text/plain": [
       "3378"
      ]
     },
     "execution_count": 9,
     "metadata": {},
     "output_type": "execute_result"
    }
   ],
   "source": [
    "len(df)"
   ]
  },
  {
   "cell_type": "code",
   "execution_count": 10,
   "metadata": {},
   "outputs": [
    {
     "data": {
      "text/html": [
       "<div>\n",
       "<style scoped>\n",
       "    .dataframe tbody tr th:only-of-type {\n",
       "        vertical-align: middle;\n",
       "    }\n",
       "\n",
       "    .dataframe tbody tr th {\n",
       "        vertical-align: top;\n",
       "    }\n",
       "\n",
       "    .dataframe thead th {\n",
       "        text-align: right;\n",
       "    }\n",
       "</style>\n",
       "<table border=\"1\" class=\"dataframe\">\n",
       "  <thead>\n",
       "    <tr style=\"text-align: right;\">\n",
       "      <th></th>\n",
       "      <th>id</th>\n",
       "      <th>desc</th>\n",
       "      <th>createTime</th>\n",
       "      <th>originalItem</th>\n",
       "      <th>officalItem</th>\n",
       "      <th>secret</th>\n",
       "      <th>forFriend</th>\n",
       "      <th>digged</th>\n",
       "      <th>itemCommentStatus</th>\n",
       "      <th>showNotPass</th>\n",
       "      <th>...</th>\n",
       "      <th>authorStats.videoCount</th>\n",
       "      <th>authorStats.diggCount</th>\n",
       "      <th>authorStats.heart</th>\n",
       "      <th>challenges</th>\n",
       "      <th>textExtra</th>\n",
       "      <th>stickersOnItem</th>\n",
       "      <th>effectStickers</th>\n",
       "      <th>music.scheduleSearchTime</th>\n",
       "      <th>warnInfo</th>\n",
       "      <th>music.authorFtc</th>\n",
       "    </tr>\n",
       "  </thead>\n",
       "  <tbody>\n",
       "    <tr>\n",
       "      <th>0</th>\n",
       "      <td>6964959690694446342</td>\n",
       "      <td></td>\n",
       "      <td>1621656054</td>\n",
       "      <td>False</td>\n",
       "      <td>False</td>\n",
       "      <td>False</td>\n",
       "      <td>False</td>\n",
       "      <td>False</td>\n",
       "      <td>0</td>\n",
       "      <td>False</td>\n",
       "      <td>...</td>\n",
       "      <td>1782</td>\n",
       "      <td>7427</td>\n",
       "      <td>9300000000</td>\n",
       "      <td>NaN</td>\n",
       "      <td>NaN</td>\n",
       "      <td>NaN</td>\n",
       "      <td>NaN</td>\n",
       "      <td>NaN</td>\n",
       "      <td>NaN</td>\n",
       "      <td>NaN</td>\n",
       "    </tr>\n",
       "    <tr>\n",
       "      <th>1</th>\n",
       "      <td>6964810925803130118</td>\n",
       "      <td>my new fav @takisusa💜 #takisusa #ad</td>\n",
       "      <td>1621621414</td>\n",
       "      <td>False</td>\n",
       "      <td>False</td>\n",
       "      <td>False</td>\n",
       "      <td>False</td>\n",
       "      <td>False</td>\n",
       "      <td>0</td>\n",
       "      <td>False</td>\n",
       "      <td>...</td>\n",
       "      <td>1782</td>\n",
       "      <td>7427</td>\n",
       "      <td>9300000000</td>\n",
       "      <td>[{'id': '42829656', 'title': 'takisusa', 'desc...</td>\n",
       "      <td>[{'awemeId': '', 'start': 11, 'end': 20, 'hash...</td>\n",
       "      <td>[{'stickerType': 4, 'stickerText': ['#ad']}]</td>\n",
       "      <td>NaN</td>\n",
       "      <td>NaN</td>\n",
       "      <td>NaN</td>\n",
       "      <td>NaN</td>\n",
       "    </tr>\n",
       "    <tr>\n",
       "      <th>2</th>\n",
       "      <td>6964547004424932613</td>\n",
       "      <td>i got my first vaccine shot today!! 💕 dc @oh.i...</td>\n",
       "      <td>1621559966</td>\n",
       "      <td>False</td>\n",
       "      <td>False</td>\n",
       "      <td>False</td>\n",
       "      <td>False</td>\n",
       "      <td>False</td>\n",
       "      <td>0</td>\n",
       "      <td>False</td>\n",
       "      <td>...</td>\n",
       "      <td>1782</td>\n",
       "      <td>7427</td>\n",
       "      <td>9300000000</td>\n",
       "      <td>NaN</td>\n",
       "      <td>[{'awemeId': '', 'start': 42, 'end': 56, 'hash...</td>\n",
       "      <td>NaN</td>\n",
       "      <td>NaN</td>\n",
       "      <td>NaN</td>\n",
       "      <td>NaN</td>\n",
       "      <td>NaN</td>\n",
       "    </tr>\n",
       "    <tr>\n",
       "      <th>3</th>\n",
       "      <td>6964479235876572421</td>\n",
       "      <td>it’s finally here! shop @socialtourist ! #weth...</td>\n",
       "      <td>1621544187</td>\n",
       "      <td>False</td>\n",
       "      <td>False</td>\n",
       "      <td>False</td>\n",
       "      <td>False</td>\n",
       "      <td>False</td>\n",
       "      <td>0</td>\n",
       "      <td>False</td>\n",
       "      <td>...</td>\n",
       "      <td>1782</td>\n",
       "      <td>7427</td>\n",
       "      <td>9300000000</td>\n",
       "      <td>[{'id': '1699011398287365', 'title': 'wethetou...</td>\n",
       "      <td>[{'awemeId': '', 'start': 24, 'end': 38, 'hash...</td>\n",
       "      <td>NaN</td>\n",
       "      <td>NaN</td>\n",
       "      <td>NaN</td>\n",
       "      <td>NaN</td>\n",
       "      <td>NaN</td>\n",
       "    </tr>\n",
       "    <tr>\n",
       "      <th>4</th>\n",
       "      <td>6963692459482189061</td>\n",
       "      <td>dc @dariushickman_</td>\n",
       "      <td>1621361000</td>\n",
       "      <td>False</td>\n",
       "      <td>False</td>\n",
       "      <td>False</td>\n",
       "      <td>False</td>\n",
       "      <td>False</td>\n",
       "      <td>0</td>\n",
       "      <td>False</td>\n",
       "      <td>...</td>\n",
       "      <td>1782</td>\n",
       "      <td>7427</td>\n",
       "      <td>9300000000</td>\n",
       "      <td>NaN</td>\n",
       "      <td>[{'awemeId': '', 'start': 3, 'end': 18, 'hasht...</td>\n",
       "      <td>NaN</td>\n",
       "      <td>NaN</td>\n",
       "      <td>NaN</td>\n",
       "      <td>NaN</td>\n",
       "      <td>NaN</td>\n",
       "    </tr>\n",
       "  </tbody>\n",
       "</table>\n",
       "<p>5 rows × 79 columns</p>\n",
       "</div>"
      ],
      "text/plain": [
       "                    id                                               desc  \\\n",
       "0  6964959690694446342                                                      \n",
       "1  6964810925803130118                my new fav @takisusa💜 #takisusa #ad   \n",
       "2  6964547004424932613  i got my first vaccine shot today!! 💕 dc @oh.i...   \n",
       "3  6964479235876572421  it’s finally here! shop @socialtourist ! #weth...   \n",
       "4  6963692459482189061                                 dc @dariushickman_   \n",
       "\n",
       "   createTime  originalItem  officalItem  secret  forFriend  digged  \\\n",
       "0  1621656054         False        False   False      False   False   \n",
       "1  1621621414         False        False   False      False   False   \n",
       "2  1621559966         False        False   False      False   False   \n",
       "3  1621544187         False        False   False      False   False   \n",
       "4  1621361000         False        False   False      False   False   \n",
       "\n",
       "   itemCommentStatus  showNotPass  ...  authorStats.videoCount  \\\n",
       "0                  0        False  ...                    1782   \n",
       "1                  0        False  ...                    1782   \n",
       "2                  0        False  ...                    1782   \n",
       "3                  0        False  ...                    1782   \n",
       "4                  0        False  ...                    1782   \n",
       "\n",
       "   authorStats.diggCount  authorStats.heart  \\\n",
       "0                   7427         9300000000   \n",
       "1                   7427         9300000000   \n",
       "2                   7427         9300000000   \n",
       "3                   7427         9300000000   \n",
       "4                   7427         9300000000   \n",
       "\n",
       "                                          challenges  \\\n",
       "0                                                NaN   \n",
       "1  [{'id': '42829656', 'title': 'takisusa', 'desc...   \n",
       "2                                                NaN   \n",
       "3  [{'id': '1699011398287365', 'title': 'wethetou...   \n",
       "4                                                NaN   \n",
       "\n",
       "                                           textExtra  \\\n",
       "0                                                NaN   \n",
       "1  [{'awemeId': '', 'start': 11, 'end': 20, 'hash...   \n",
       "2  [{'awemeId': '', 'start': 42, 'end': 56, 'hash...   \n",
       "3  [{'awemeId': '', 'start': 24, 'end': 38, 'hash...   \n",
       "4  [{'awemeId': '', 'start': 3, 'end': 18, 'hasht...   \n",
       "\n",
       "                                 stickersOnItem  effectStickers  \\\n",
       "0                                           NaN             NaN   \n",
       "1  [{'stickerType': 4, 'stickerText': ['#ad']}]             NaN   \n",
       "2                                           NaN             NaN   \n",
       "3                                           NaN             NaN   \n",
       "4                                           NaN             NaN   \n",
       "\n",
       "  music.scheduleSearchTime  warnInfo  music.authorFtc  \n",
       "0                      NaN       NaN              NaN  \n",
       "1                      NaN       NaN              NaN  \n",
       "2                      NaN       NaN              NaN  \n",
       "3                      NaN       NaN              NaN  \n",
       "4                      NaN       NaN              NaN  \n",
       "\n",
       "[5 rows x 79 columns]"
      ]
     },
     "execution_count": 10,
     "metadata": {},
     "output_type": "execute_result"
    }
   ],
   "source": [
    "df.head()"
   ]
  },
  {
   "cell_type": "code",
   "execution_count": 11,
   "metadata": {},
   "outputs": [
    {
     "data": {
      "text/plain": [
       "Index(['id', 'desc', 'createTime', 'originalItem', 'officalItem', 'secret',\n",
       "       'forFriend', 'digged', 'itemCommentStatus', 'showNotPass', 'vl1',\n",
       "       'itemMute', 'privateItem', 'duetEnabled', 'stitchEnabled',\n",
       "       'shareEnabled', 'isAd', 'video.id', 'video.height', 'video.width',\n",
       "       'video.duration', 'video.ratio', 'video.cover', 'video.originCover',\n",
       "       'video.dynamicCover', 'video.playAddr', 'video.downloadAddr',\n",
       "       'video.shareCover', 'video.reflowCover', 'video.bitrate',\n",
       "       'video.encodedType', 'video.format', 'video.videoQuality',\n",
       "       'video.encodeUserTag', 'author.id', 'author.uniqueId',\n",
       "       'author.nickname', 'author.avatarThumb', 'author.avatarMedium',\n",
       "       'author.avatarLarger', 'author.signature', 'author.verified',\n",
       "       'author.secUid', 'author.secret', 'author.ftc', 'author.relation',\n",
       "       'author.openFavorite', 'author.commentSetting', 'author.duetSetting',\n",
       "       'author.stitchSetting', 'author.privateAccount', 'music.id',\n",
       "       'music.title', 'music.playUrl', 'music.coverThumb', 'music.coverMedium',\n",
       "       'music.coverLarge', 'music.authorName', 'music.original',\n",
       "       'music.duration', 'music.album', 'stats.diggCount', 'stats.shareCount',\n",
       "       'stats.commentCount', 'stats.playCount', 'duetInfo.duetFromId',\n",
       "       'authorStats.followingCount', 'authorStats.followerCount',\n",
       "       'authorStats.heartCount', 'authorStats.videoCount',\n",
       "       'authorStats.diggCount', 'authorStats.heart', 'challenges', 'textExtra',\n",
       "       'stickersOnItem', 'effectStickers', 'music.scheduleSearchTime',\n",
       "       'warnInfo', 'music.authorFtc'],\n",
       "      dtype='object')"
      ]
     },
     "execution_count": 11,
     "metadata": {},
     "output_type": "execute_result"
    }
   ],
   "source": [
    "df.keys()"
   ]
  },
  {
   "cell_type": "code",
   "execution_count": 27,
   "metadata": {},
   "outputs": [],
   "source": [
    "df.drop(['createTime', 'originalItem', 'officalItem', 'textExtra',\n",
    "       'secret', 'forFriend', 'digged', 'itemCommentStatus', 'showNotPass',\n",
    "       'vl1', 'itemMute', 'privateItem', 'duetEnabled', 'stitchEnabled',\n",
    "       'shareEnabled', 'isAd', 'video.id', 'video.height', 'video.width',\n",
    "       'video.duration', 'video.ratio', 'video.cover', 'video.originCover',\n",
    "       'video.dynamicCover', 'video.downloadAddr',\n",
    "       'video.shareCover', 'video.reflowCover', 'video.bitrate',\n",
    "       'video.encodedType', 'video.format', 'video.videoQuality',\n",
    "       'video.encodeUserTag', 'author.id', 'author.avatarThumb', 'author.avatarMedium',\n",
    "       'author.avatarLarger', 'author.signature', 'author.verified',\n",
    "       'author.secUid', 'author.secret', 'author.ftc', 'author.relation',\n",
    "       'author.openFavorite', 'author.commentSetting', 'author.duetSetting',\n",
    "       'author.stitchSetting', 'author.privateAccount', 'music.id',\n",
    "       'music.title', 'music.playUrl', 'music.coverThumb', 'music.coverMedium',\n",
    "       'music.coverLarge', 'music.authorName', 'music.original',\n",
    "       'music.duration', 'music.album', 'duetInfo.duetFromId', 'challenges',\n",
    "       'effectStickers', 'stickersOnItem', 'music.scheduleSearchTime',\n",
    "       'warnInfo', 'music.authorFtc'], inplace=True, axis='columns')"
   ]
  },
  {
   "cell_type": "code",
   "execution_count": 28,
   "metadata": {},
   "outputs": [
    {
     "data": {
      "text/plain": [
       "0                                                        \n",
       "1                     my new fav @takisusa💜 #takisusa #ad\n",
       "2       i got my first vaccine shot today!! 💕 dc @oh.i...\n",
       "3       it’s finally here! shop @socialtourist ! #weth...\n",
       "4                                      dc @dariushickman_\n",
       "                              ...                        \n",
       "3373    had to hit another fire elevator performance(:...\n",
       "3374    which do you prefer?😳😂 #HereForOneThing #MyOhM...\n",
       "3375                               feel free to use this🥰\n",
       "3376                    i missed the lil bro😭🔥 #shluvgang\n",
       "3377    Duet This! This beat slaps though. Text \"Ditch...\n",
       "Name: desc, Length: 3378, dtype: object"
      ]
     },
     "execution_count": 28,
     "metadata": {},
     "output_type": "execute_result"
    }
   ],
   "source": [
    "df['desc']"
   ]
  },
  {
   "cell_type": "markdown",
   "metadata": {},
   "source": [
    "# Cleaning the descriptions"
   ]
  },
  {
   "cell_type": "code",
   "execution_count": 34,
   "metadata": {},
   "outputs": [
    {
     "name": "stderr",
     "output_type": "stream",
     "text": [
      "[nltk_data] Downloading package stopwords to\n",
      "[nltk_data]     C:\\Users\\zoika\\AppData\\Roaming\\nltk_data...\n",
      "[nltk_data]   Package stopwords is already up-to-date!\n"
     ]
    },
    {
     "data": {
      "text/plain": [
       "True"
      ]
     },
     "execution_count": 34,
     "metadata": {},
     "output_type": "execute_result"
    }
   ],
   "source": [
    "import re \n",
    "import string\n",
    "import nltk\n",
    "nltk.download('stopwords')"
   ]
  },
  {
   "cell_type": "code",
   "execution_count": 35,
   "metadata": {},
   "outputs": [],
   "source": [
    "from textblob import TextBlob\n",
    "from nltk.corpus import stopwords"
   ]
  },
  {
   "cell_type": "markdown",
   "metadata": {},
   "source": [
    "## Remove punctuations"
   ]
  },
  {
   "cell_type": "markdown",
   "metadata": {},
   "source": [
    "Removing !\"#$%&'()*+, -./:;<=>?@[]^_`{|}~ as well as \\t, \\n and ' that are often used. All the characters are also converted in lower cases."
   ]
  },
  {
   "cell_type": "code",
   "execution_count": 36,
   "metadata": {},
   "outputs": [],
   "source": [
    "def remove_punctuations(docs):\n",
    "    new_docs = []\n",
    "    for doc in docs:\n",
    "        doc = doc.lower() #put the text as lower case\n",
    "        for c in string.punctuation + \"'\" :\n",
    "            doc = doc.replace(c, \" \")\n",
    "        new_docs.append(doc)\n",
    "    return new_docs"
   ]
  },
  {
   "cell_type": "code",
   "execution_count": 29,
   "metadata": {},
   "outputs": [],
   "source": [
    "df['desc'] = remove_punctuations(df['desc'])"
   ]
  },
  {
   "cell_type": "code",
   "execution_count": 30,
   "metadata": {},
   "outputs": [
    {
     "data": {
      "text/plain": [
       "0                                                     \n",
       "1                  my new fav  takisusa💜  takisusa  ad\n",
       "2    i got my first vaccine shot today   💕 dc  oh i...\n",
       "3    it’s finally here  shop  socialtourist    weth...\n",
       "4                                   dc  dariushickman \n",
       "5                coming soon to  hulu   thedamelioshow\n",
       "6                                                     \n",
       "7                happy birthday  lilhuddy  disneyparks\n",
       "8                           tonight     dixiedamelio 🤍\n",
       "9                                                     \n",
       "Name: desc, dtype: object"
      ]
     },
     "execution_count": 30,
     "metadata": {},
     "output_type": "execute_result"
    }
   ],
   "source": [
    "df['desc'].head(10)"
   ]
  },
  {
   "cell_type": "markdown",
   "metadata": {},
   "source": [
    "## Remove stopwords"
   ]
  },
  {
   "cell_type": "markdown",
   "metadata": {},
   "source": [
    "The algorithm tokenizes the texts (separates the string in words) and removes a set of words that are used a lot but they do not add any value to the text. Some of them: 'i', 'me', 'my', 'myself', 'what', 'which', 'who', 'whom', 'this', 'that', 'a', 'an', 'the', 'and', 'but', 'if', 'or', 'because', 'as', 'until', 'while', 'of', 'at', 'by', 'for', 'with', 'about', 'against', 'between', 'into' etc."
   ]
  },
  {
   "cell_type": "code",
   "execution_count": 37,
   "metadata": {},
   "outputs": [],
   "source": [
    "def remove_stopwords(text):\n",
    "    blob = []\n",
    "    new_docs = []\n",
    "    blob = TextBlob(text)\n",
    "    new_docs = [word for word in blob.words if word not in stopwords.words('english')]\n",
    "    new_docs = ' '.join(new_docs)\n",
    "    #blob_clean = TextBlob(new_docs)\n",
    "    return new_docs"
   ]
  },
  {
   "cell_type": "code",
   "execution_count": 31,
   "metadata": {},
   "outputs": [],
   "source": [
    "df['desc'] = df['desc'].apply(lambda x: remove_stopwords(x))"
   ]
  },
  {
   "cell_type": "code",
   "execution_count": 32,
   "metadata": {},
   "outputs": [
    {
     "data": {
      "text/plain": [
       "0                                                     \n",
       "1                        new fav takisusa💜 takisusa ad\n",
       "2          got first vaccine shot today 💕 dc oh phoebe\n",
       "3    ’ finally shop socialtourist wethetourists soc...\n",
       "4                                     dc dariushickman\n",
       "5                      coming soon hulu thedamelioshow\n",
       "6                                                     \n",
       "7                  happy birthday lilhuddy disneyparks\n",
       "8                               tonight dixiedamelio 🤍\n",
       "9                                                     \n",
       "Name: desc, dtype: object"
      ]
     },
     "execution_count": 32,
     "metadata": {},
     "output_type": "execute_result"
    }
   ],
   "source": [
    "df['desc'].head(10)"
   ]
  },
  {
   "cell_type": "markdown",
   "metadata": {},
   "source": [
    "## Normalization"
   ]
  },
  {
   "cell_type": "markdown",
   "metadata": {},
   "source": [
    "In order to reduce the text's ranomness, we normalize the descriptions. We use the Lemmatization technique to reduce inflectional and derivationally related forms of a word to a common base form. Lemmatizing creates lemmas for each family of words. For instance, for the words believe, believing, believer and belief, we will have the lemma belief. In the end the clean texts will not be so easy for a person to understand but they will be simple for the machine to analyse."
   ]
  },
  {
   "cell_type": "code",
   "execution_count": 38,
   "metadata": {},
   "outputs": [
    {
     "name": "stderr",
     "output_type": "stream",
     "text": [
      "[nltk_data] Downloading package averaged_perceptron_tagger to\n",
      "[nltk_data]     C:\\Users\\zoika\\AppData\\Roaming\\nltk_data...\n",
      "[nltk_data]   Package averaged_perceptron_tagger is already up-to-\n",
      "[nltk_data]       date!\n"
     ]
    }
   ],
   "source": [
    "import nltk\n",
    "nltk.download('averaged_perceptron_tagger')\n",
    "from nltk.stem import WordNetLemmatizer"
   ]
  },
  {
   "cell_type": "code",
   "execution_count": 39,
   "metadata": {},
   "outputs": [],
   "source": [
    "from nltk.corpus import wordnet"
   ]
  },
  {
   "cell_type": "code",
   "execution_count": 40,
   "metadata": {},
   "outputs": [],
   "source": [
    "lemmatizer = WordNetLemmatizer()\n",
    "\n",
    "# function to convert nltk tag to wordnet tag\n",
    "def nltk_tag_to_wordnet_tag(nltk_tag):\n",
    "    if nltk_tag.startswith('J'):\n",
    "        return wordnet.ADJ\n",
    "    elif nltk_tag.startswith('V'):\n",
    "        return wordnet.VERB\n",
    "    elif nltk_tag.startswith('N'):\n",
    "        return wordnet.NOUN\n",
    "    elif nltk_tag.startswith('R'):\n",
    "        return wordnet.ADV\n",
    "    else:          \n",
    "        return None\n",
    "\n",
    "def lemmatize_sentence(sentence):\n",
    "    #tokenize the sentence and find the POS tag for each token\n",
    "    nltk_tagged = nltk.pos_tag(nltk.word_tokenize(sentence))  \n",
    "    #tuple of (token, wordnet_tag)\n",
    "    wordnet_tagged = map(lambda x: (x[0], nltk_tag_to_wordnet_tag(x[1])), nltk_tagged)\n",
    "    lemmatized_sentence = []\n",
    "    for word, tag in wordnet_tagged:\n",
    "        if tag is None:\n",
    "            #if there is no available tag, append the token as is\n",
    "            lemmatized_sentence.append(word)\n",
    "        else:        \n",
    "            #else use the tag to lemmatize the token\n",
    "            lemmatized_sentence.append(lemmatizer.lemmatize(word, tag))\n",
    "    return \" \".join(lemmatized_sentence)"
   ]
  },
  {
   "cell_type": "code",
   "execution_count": 37,
   "metadata": {},
   "outputs": [],
   "source": [
    "df['desc'] = df['desc'].apply(lambda x: lemmatize_sentence(x))"
   ]
  },
  {
   "cell_type": "code",
   "execution_count": 38,
   "metadata": {},
   "outputs": [
    {
     "data": {
      "text/plain": [
       "0                                                     \n",
       "1                        new fav takisusa💜 takisusa ad\n",
       "2          get first vaccine shot today 💕 dc oh phoebe\n",
       "3    ’ finally shop socialtourist wethetourists soc...\n",
       "4                                     dc dariushickman\n",
       "Name: desc, dtype: object"
      ]
     },
     "execution_count": 38,
     "metadata": {},
     "output_type": "execute_result"
    }
   ],
   "source": [
    "df['desc'].head()"
   ]
  },
  {
   "cell_type": "markdown",
   "metadata": {},
   "source": [
    "Save the clean data."
   ]
  },
  {
   "cell_type": "code",
   "execution_count": 39,
   "metadata": {},
   "outputs": [],
   "source": [
    "df.to_csv('TikTokData.csv',index=False)"
   ]
  },
  {
   "cell_type": "markdown",
   "metadata": {},
   "source": [
    "# Exploring"
   ]
  },
  {
   "cell_type": "code",
   "execution_count": 15,
   "metadata": {},
   "outputs": [],
   "source": [
    "import pandas as pd\n",
    "df = pd.read_csv('TikTokData.csv')"
   ]
  },
  {
   "cell_type": "markdown",
   "metadata": {},
   "source": [
    "Drop the null descriptions"
   ]
  },
  {
   "cell_type": "code",
   "execution_count": 2,
   "metadata": {},
   "outputs": [
    {
     "name": "stdout",
     "output_type": "stream",
     "text": [
      "<class 'pandas.core.frame.DataFrame'>\n",
      "RangeIndex: 3378 entries, 0 to 3377\n",
      "Data columns (total 15 columns):\n",
      " #   Column                      Non-Null Count  Dtype \n",
      "---  ------                      --------------  ----- \n",
      " 0   id                          3378 non-null   int64 \n",
      " 1   desc                        3106 non-null   object\n",
      " 2   video.playAddr              3378 non-null   object\n",
      " 3   author.uniqueId             3378 non-null   object\n",
      " 4   author.nickname             3378 non-null   object\n",
      " 5   stats.diggCount             3378 non-null   int64 \n",
      " 6   stats.shareCount            3378 non-null   int64 \n",
      " 7   stats.commentCount          3378 non-null   int64 \n",
      " 8   stats.playCount             3378 non-null   int64 \n",
      " 9   authorStats.followingCount  3378 non-null   int64 \n",
      " 10  authorStats.followerCount   3378 non-null   int64 \n",
      " 11  authorStats.heartCount      3378 non-null   int64 \n",
      " 12  authorStats.videoCount      3378 non-null   int64 \n",
      " 13  authorStats.diggCount       3378 non-null   int64 \n",
      " 14  authorStats.heart           3378 non-null   int64 \n",
      "dtypes: int64(11), object(4)\n",
      "memory usage: 396.0+ KB\n"
     ]
    }
   ],
   "source": [
    "df.info()"
   ]
  },
  {
   "cell_type": "code",
   "execution_count": 3,
   "metadata": {},
   "outputs": [
    {
     "name": "stdout",
     "output_type": "stream",
     "text": [
      "<class 'pandas.core.frame.DataFrame'>\n",
      "Int64Index: 3106 entries, 1 to 3377\n",
      "Data columns (total 15 columns):\n",
      " #   Column                      Non-Null Count  Dtype \n",
      "---  ------                      --------------  ----- \n",
      " 0   id                          3106 non-null   int64 \n",
      " 1   desc                        3106 non-null   object\n",
      " 2   video.playAddr              3106 non-null   object\n",
      " 3   author.uniqueId             3106 non-null   object\n",
      " 4   author.nickname             3106 non-null   object\n",
      " 5   stats.diggCount             3106 non-null   int64 \n",
      " 6   stats.shareCount            3106 non-null   int64 \n",
      " 7   stats.commentCount          3106 non-null   int64 \n",
      " 8   stats.playCount             3106 non-null   int64 \n",
      " 9   authorStats.followingCount  3106 non-null   int64 \n",
      " 10  authorStats.followerCount   3106 non-null   int64 \n",
      " 11  authorStats.heartCount      3106 non-null   int64 \n",
      " 12  authorStats.videoCount      3106 non-null   int64 \n",
      " 13  authorStats.diggCount       3106 non-null   int64 \n",
      " 14  authorStats.heart           3106 non-null   int64 \n",
      "dtypes: int64(11), object(4)\n",
      "memory usage: 388.2+ KB\n"
     ]
    }
   ],
   "source": [
    "df = df.dropna(subset=['desc'])\n",
    "df.info()"
   ]
  },
  {
   "cell_type": "markdown",
   "metadata": {},
   "source": [
    "### Classify the creators to dancers/singers and not"
   ]
  },
  {
   "cell_type": "code",
   "execution_count": 5,
   "metadata": {},
   "outputs": [],
   "source": [
    "dancers = ['charlidamelio', 'addisonre', 'spencerx', 'lorengray', 'dixiedamelio', 'justmaiko']"
   ]
  },
  {
   "cell_type": "code",
   "execution_count": 6,
   "metadata": {},
   "outputs": [],
   "source": [
    "def isdancer(authorid):\n",
    "    if authorid in dancers:\n",
    "        return \"singer/dancer\"\n",
    "    else:\n",
    "        return \"other\""
   ]
  },
  {
   "cell_type": "code",
   "execution_count": 7,
   "metadata": {},
   "outputs": [
    {
     "data": {
      "text/plain": [
       "1       singer/dancer\n",
       "2       singer/dancer\n",
       "3       singer/dancer\n",
       "4       singer/dancer\n",
       "5       singer/dancer\n",
       "            ...      \n",
       "3373    singer/dancer\n",
       "3374    singer/dancer\n",
       "3375    singer/dancer\n",
       "3376    singer/dancer\n",
       "3377    singer/dancer\n",
       "Name: dancer_singer, Length: 3106, dtype: object"
      ]
     },
     "execution_count": 7,
     "metadata": {},
     "output_type": "execute_result"
    }
   ],
   "source": [
    "df['dancer_singer'] = df['author.uniqueId'].apply(lambda x: isdancer(x))\n",
    "df['dancer_singer']"
   ]
  },
  {
   "cell_type": "markdown",
   "metadata": {},
   "source": [
    "### Exploring the number of likes"
   ]
  },
  {
   "cell_type": "code",
   "execution_count": 8,
   "metadata": {},
   "outputs": [
    {
     "data": {
      "text/plain": [
       "count    3.106000e+03\n",
       "mean     3.180432e+06\n",
       "std      3.381641e+06\n",
       "min      1.450000e+04\n",
       "25%      7.782000e+05\n",
       "50%      1.800000e+06\n",
       "75%      4.800000e+06\n",
       "max      4.940000e+07\n",
       "Name: stats.diggCount, dtype: float64"
      ]
     },
     "execution_count": 8,
     "metadata": {},
     "output_type": "execute_result"
    }
   ],
   "source": [
    "df['stats.diggCount'].describe()"
   ]
  },
  {
   "cell_type": "code",
   "execution_count": 9,
   "metadata": {},
   "outputs": [
    {
     "data": {
      "text/plain": [
       "(0.0, 1090.0)"
      ]
     },
     "execution_count": 9,
     "metadata": {},
     "output_type": "execute_result"
    },
    {
     "data": {
      "image/png": "[encoded data removed]",
      "text/plain": [
       "<Figure size 864x576 with 1 Axes>"
      ]
     },
     "metadata": {
      "needs_background": "light"
     },
     "output_type": "display_data"
    }
   ],
   "source": [
    "import matplotlib.pyplot as plt\n",
    "import numpy as np\n",
    "\n",
    "plt.rcParams['figure.figsize'] = [12, 8]\n",
    "\n",
    "# An \"interface\" to matplotlib.axes.Axes.hist() method\n",
    "n, bins, patches = plt.hist(x=df['stats.diggCount'], bins=50, color='#0504aa',\n",
    "                            alpha=0.7, rwidth=0.9)\n",
    "plt.grid(axis='y', alpha=0.75)\n",
    "plt.xlabel('Likes')\n",
    "plt.ylabel('Frequency')\n",
    "plt.title('Distribution of likes')\n",
    "#plt.text(23, 45, r'$\\mu=15, b=3$')\n",
    "maxfreq = n.max()\n",
    "# Set a clean upper y-axis limit.\n",
    "plt.ylim(ymax=np.ceil(maxfreq / 10) * 10 if maxfreq % 10 else maxfreq + 10)"
   ]
  },
  {
   "cell_type": "markdown",
   "metadata": {},
   "source": [
    "### Classify the videos into \"high\" and \"low' number of likes"
   ]
  },
  {
   "cell_type": "code",
   "execution_count": 10,
   "metadata": {},
   "outputs": [],
   "source": [
    "def diggcount(diggcount):\n",
    "    if diggcount > 2000000:\n",
    "        return \"high\"\n",
    "    else:\n",
    "        return \"low\""
   ]
  },
  {
   "cell_type": "code",
   "execution_count": 11,
   "metadata": {},
   "outputs": [
    {
     "data": {
      "text/plain": [
       "1       high\n",
       "2       high\n",
       "3        low\n",
       "4       high\n",
       "5       high\n",
       "        ... \n",
       "3373     low\n",
       "3374     low\n",
       "3375     low\n",
       "3376     low\n",
       "3377     low\n",
       "Name: likes, Length: 3106, dtype: object"
      ]
     },
     "execution_count": 11,
     "metadata": {},
     "output_type": "execute_result"
    }
   ],
   "source": [
    "df['likes'] = df['stats.diggCount'].apply(lambda x: diggcount(x))\n",
    "df['likes']"
   ]
  },
  {
   "cell_type": "markdown",
   "metadata": {},
   "source": [
    "# Word frequescies"
   ]
  },
  {
   "cell_type": "markdown",
   "metadata": {},
   "source": [
    "Word clouds gives us a first idea about the main topics. The more a specific word appears in a source of textual data, the bigger and bolder it appears in the word cloud."
   ]
  },
  {
   "cell_type": "code",
   "execution_count": 12,
   "metadata": {},
   "outputs": [
    {
     "data": {
      "image/png": "[encoded data removed]",
      "text/plain": [
       "<Figure size 720x720 with 1 Axes>"
      ]
     },
     "metadata": {
      "needs_background": "light"
     },
     "output_type": "display_data"
    }
   ],
   "source": [
    "from wordcloud import WordCloud, STOPWORDS\n",
    "import matplotlib.pyplot as plt\n",
    "stopwords = set(STOPWORDS)\n",
    "wordcloud = WordCloud(background_color='white',\n",
    "                      max_words=25,\n",
    "                      stopwords=stopwords,\n",
    "                      max_font_size=40,\n",
    "                      random_state=42).generate(str(df['desc']))\n",
    "fig = plt.figure(1,figsize=(10,10))\n",
    "plt.imshow(wordcloud)\n",
    "plt.axis('off');"
   ]
  },
  {
   "cell_type": "code",
   "execution_count": 21,
   "metadata": {},
   "outputs": [],
   "source": [
    "import pdtext\n",
    "from pdtext.tf import make_wf_df"
   ]
  },
  {
   "cell_type": "markdown",
   "metadata": {},
   "source": [
    "We create a frequency matrix, counting how often certain words occur. This matrix will be usefull later not only on the topic modeling but also to other techniques."
   ]
  },
  {
   "cell_type": "code",
   "execution_count": 14,
   "metadata": {},
   "outputs": [],
   "source": [
    "wf_desc = make_wf_df(df['desc'])"
   ]
  },
  {
   "cell_type": "markdown",
   "metadata": {},
   "source": [
    "The following matrix shows the words that are mostly mentioned, sorted by their count. First in the list is the word \"bangenergy\" which is clearly a usual hashtag that one or more creators uses. After a brief search, bang energy is a brand name that the creator @justmaiko is promoting (he is actually the CEO). The #dc is the characteristic hashtag of @charlidamelio, comes from dance and she often uses it.  Finally, in our data set there is only one beatboxer: @spencerx whose content is related to beatbox. We conclude that apart from the usual words that everyone uses, such as get, new, love, ad etc, there are some specific words that occure to specific creators."
   ]
  },
  {
   "cell_type": "code",
   "execution_count": 15,
   "metadata": {
    "scrolled": true
   },
   "outputs": [
    {
     "data": {
      "text/plain": [
       "bangenergy        207\n",
       "dc                204\n",
       "beatbox           193\n",
       "get               164\n",
       "new               127\n",
       "dance             115\n",
       "love              114\n",
       "duet              102\n",
       "ad                 97\n",
       "video              94\n",
       "like               89\n",
       "go                 87\n",
       "challenge          84\n",
       "make               83\n",
       "thank              81\n",
       "link               78\n",
       "ceo                77\n",
       "itsjonathanle      76\n",
       "tiktok             75\n",
       "bio                74\n",
       "much               66\n",
       "u                  65\n",
       "see                61\n",
       "justmaiko          60\n",
       "day                60\n",
       "million            57\n",
       "back               56\n",
       "know               54\n",
       "one                54\n",
       "use                53\n",
       "trend              51\n",
       "theshluvfamily     51\n",
       "magic              50\n",
       "try                49\n",
       "take               49\n",
       "prank              48\n",
       "time               48\n",
       "good               46\n",
       "w                  46\n",
       "joeyklaasen        46\n",
       "dtype: int64"
      ]
     },
     "execution_count": 15,
     "metadata": {},
     "output_type": "execute_result"
    }
   ],
   "source": [
    "wf_desc.sum().sort_values(ascending=False)[:40]"
   ]
  },
  {
   "cell_type": "markdown",
   "metadata": {},
   "source": [
    "We also created the TD-IDF matrix that shows the originality of the word by comparing the number of times a word appears in a document with the number of documents that the word appears in."
   ]
  },
  {
   "cell_type": "code",
   "execution_count": 16,
   "metadata": {},
   "outputs": [],
   "source": [
    "tfidf_desc = make_wf_df(df['desc'], tfidf = True)"
   ]
  },
  {
   "cell_type": "code",
   "execution_count": 39,
   "metadata": {
    "scrolled": true
   },
   "outputs": [
    {
     "data": {
      "text/plain": [
       "dc                71.176831\n",
       "beatbox           61.888559\n",
       "bangenergy        51.646562\n",
       "get               42.489728\n",
       "dance             33.460756\n",
       "duet              33.196485\n",
       "love              32.532797\n",
       "new               31.692916\n",
       "itsjonathanle     27.909152\n",
       "like              27.466507\n",
       "challenge         26.892051\n",
       "video             26.521336\n",
       "thank             25.310099\n",
       "go                25.170093\n",
       "link              24.197655\n",
       "bio               23.510678\n",
       "u                 21.776550\n",
       "back              21.735619\n",
       "justmaiko         21.602962\n",
       "make              21.378769\n",
       "much              20.931958\n",
       "tiktok            20.624596\n",
       "ad                20.579706\n",
       "million           20.241059\n",
       "day               19.855376\n",
       "ceo               19.643479\n",
       "theshluvfamily    19.563527\n",
       "trend             19.368690\n",
       "try               18.420119\n",
       "good              18.286890\n",
       "know              18.047310\n",
       "joeyklaasen       17.625536\n",
       "sherinicolee      17.593292\n",
       "say               17.575412\n",
       "take              17.228217\n",
       "one               17.198241\n",
       "prank             17.131082\n",
       "analisseworld     16.948725\n",
       "see               16.635174\n",
       "sound             15.806083\n",
       "dtype: float64"
      ]
     },
     "execution_count": 39,
     "metadata": {},
     "output_type": "execute_result"
    }
   ],
   "source": [
    "tfidf_desc.sum().sort_values(ascending=False)[:40]"
   ]
  },
  {
   "cell_type": "markdown",
   "metadata": {},
   "source": [
    "## Most frequent words"
   ]
  },
  {
   "cell_type": "markdown",
   "metadata": {},
   "source": [
    "We divided the frequencies of words into two groups: The high likes-count and the low likes count. With this technique, we are able to see if there are some words in the description (so topics of content) that is more loved by the followers."
   ]
  },
  {
   "cell_type": "markdown",
   "metadata": {},
   "source": [
    "### For high number of likes"
   ]
  },
  {
   "cell_type": "code",
   "execution_count": 16,
   "metadata": {
    "scrolled": true
   },
   "outputs": [
    {
     "data": {
      "text/plain": [
       "dc               191\n",
       "love              71\n",
       "get               70\n",
       "itsjonathanle     64\n",
       "dance             55\n",
       "much              52\n",
       "duet              52\n",
       "thank             51\n",
       "ad                50\n",
       "beatbox           47\n",
       "go                47\n",
       "link              45\n",
       "new               44\n",
       "bangenergy        44\n",
       "bio               44\n",
       "video             40\n",
       "million           36\n",
       "make              35\n",
       "like              34\n",
       "see               33\n",
       "dtype: int64"
      ]
     },
     "execution_count": 16,
     "metadata": {},
     "output_type": "execute_result"
    }
   ],
   "source": [
    "freq = make_wf_df(df[(df['likes'] == 'high') ]['desc'])\n",
    "freq.sum().sort_values(ascending=False)[:20]"
   ]
  },
  {
   "cell_type": "markdown",
   "metadata": {},
   "source": [
    "### For low number of likes"
   ]
  },
  {
   "cell_type": "code",
   "execution_count": 17,
   "metadata": {
    "scrolled": true
   },
   "outputs": [
    {
     "data": {
      "text/plain": [
       "bangenergy        163\n",
       "beatbox           146\n",
       "get                94\n",
       "new                83\n",
       "challenge          62\n",
       "dance              60\n",
       "tiktok             59\n",
       "ceo                58\n",
       "like               55\n",
       "video              54\n",
       "duet               50\n",
       "make               48\n",
       "ad                 47\n",
       "love               43\n",
       "u                  41\n",
       "go                 40\n",
       "justmaiko          39\n",
       "w                  37\n",
       "day                37\n",
       "time               34\n",
       "use                34\n",
       "try                33\n",
       "theshluvfamily     33\n",
       "link               33\n",
       "back               32\n",
       "joeyklaasen        31\n",
       "lil                31\n",
       "bio                30\n",
       "thank              30\n",
       "trend              30\n",
       "dtype: int64"
      ]
     },
     "execution_count": 17,
     "metadata": {},
     "output_type": "execute_result"
    }
   ],
   "source": [
    "freq = make_wf_df(df[(df['likes'] == 'low') ]['desc'])\n",
    "freq.sum().sort_values(ascending=False)[:30]"
   ]
  },
  {
   "cell_type": "markdown",
   "metadata": {},
   "source": [
    "We observe that some words (dc, love, itsjonathanle) are strongly associated with a lot of likes and some others (bangenergy, beatbox) are associated with not so many likes. However, some words are used almost exclusively by one creator. For instance, dc is a word-signature of @charlidamelio and the word beatbox is often used by the beatboxer of the data set @spencerx. This fact makes us wonder whether there is a bias in these words-signature because we cannot argue that if you are a beatboxer your videos on TikTok are doomed to have a few likes. We also have to take into account that the number of likes is not balanced in the creators level. Therefore, it is necessaty to analyse more some interesting results that pop up. Note that the simple frequency matrix will be used because the descriptions are brief and one word is very unlikely to accure more than once."
   ]
  },
  {
   "cell_type": "markdown",
   "metadata": {},
   "source": [
    "#### Charli D'Amelio (@charlidamelio)"
   ]
  },
  {
   "cell_type": "code",
   "execution_count": 20,
   "metadata": {},
   "outputs": [
    {
     "data": {
      "text/plain": [
       "high    384\n",
       "low       2\n",
       "Name: likes, dtype: int64"
      ]
     },
     "execution_count": 20,
     "metadata": {},
     "output_type": "execute_result"
    }
   ],
   "source": [
    "df[df['author.uniqueId'] == 'charlidamelio']['likes'].value_counts()"
   ]
  },
  {
   "cell_type": "markdown",
   "metadata": {},
   "source": [
    "Charli D'Amelio uses constantly the word dc. This needs furhter investigation because only 2 of her videos belong to the low number of likes category. All we need to do is to devide the word frequencies by the number of videos in each class."
   ]
  },
  {
   "cell_type": "code",
   "execution_count": 42,
   "metadata": {},
   "outputs": [
    {
     "data": {
      "text/plain": [
       "dc                     0.424479\n",
       "much                   0.093750\n",
       "thank                  0.093750\n",
       "bio                    0.078125\n",
       "link                   0.078125\n",
       "million                0.075521\n",
       "love                   0.070312\n",
       "ad                     0.054688\n",
       "new                    0.044271\n",
       "dixiedamelio           0.039062\n",
       "duet                   0.036458\n",
       "go                     0.036458\n",
       "get                    0.036458\n",
       "2                      0.031250\n",
       "dunkin                 0.031250\n",
       "charli                 0.031250\n",
       "guy                    0.028646\n",
       "morphe2xcharlidixie    0.028646\n",
       "morphe2                0.026042\n",
       "teehee                 0.026042\n",
       "dtype: float64"
      ]
     },
     "execution_count": 42,
     "metadata": {},
     "output_type": "execute_result"
    }
   ],
   "source": [
    "freq = make_wf_df(df[(df['likes'] == 'high') & (df['author.uniqueId'] == 'charlidamelio')]['desc'])\n",
    "n_HighTikToks = len(df[(df['likes'] == 'high') & (df['author.uniqueId'] == 'charlidamelio')])\n",
    "freq.sum().sort_values(ascending=False)[:20]/n_HighTikToks"
   ]
  },
  {
   "cell_type": "code",
   "execution_count": 19,
   "metadata": {},
   "outputs": [
    {
     "data": {
      "text/plain": [
       "wethetourists             1.0\n",
       "socialtourist             1.0\n",
       "socialtouristfounder      0.5\n",
       "socialtouristcofounder    0.5\n",
       "shop                      0.5\n",
       "dtype: float64"
      ]
     },
     "execution_count": 19,
     "metadata": {},
     "output_type": "execute_result"
    }
   ],
   "source": [
    "freq = make_wf_df(df[(df['likes'] == 'low') & (df['author.uniqueId'] == 'charlidamelio')]['desc'])\n",
    "n_LowTikToks = len(df[(df['likes'] == 'low') & (df['author.uniqueId'] == 'charlidamelio')])\n",
    "freq.sum().sort_values(ascending=False)[:5]/n_LowTikToks"
   ]
  },
  {
   "cell_type": "markdown",
   "metadata": {},
   "source": [
    "In the word frequency matrix of the whole data set, 'dc' appeared as a 'must' word to use to receive a lot of likes but in fact, this happened because Charli d'Amelio's content has a lot of likes. Thus we cannot argue that the more she uses this word, the more likes she recieves. on the other hand, in the low-likes list, we see only words related to the brand she promotes (Social Tourist) while non of these words is appearing in the high-likes list. This means that the product placement is not the favorite content of the TikTok users."
   ]
  },
  {
   "cell_type": "markdown",
   "metadata": {},
   "source": [
    "#### Spencer Polanco Knight (@spencerx)"
   ]
  },
  {
   "cell_type": "markdown",
   "metadata": {},
   "source": [
    "The word 'beatbox' is often mentioned by Spencer Polanco Knight who is a beatboxer."
   ]
  },
  {
   "cell_type": "code",
   "execution_count": 21,
   "metadata": {},
   "outputs": [
    {
     "data": {
      "text/plain": [
       "beatbox          0.494624\n",
       "justmaiko        0.225806\n",
       "itsjonathanle    0.215054\n",
       "prank            0.204301\n",
       "get              0.193548\n",
       "joeyklaasen      0.161290\n",
       "jonklaasen       0.150538\n",
       "challenge        0.150538\n",
       "good             0.139785\n",
       "go               0.096774\n",
       "dtype: float64"
      ]
     },
     "execution_count": 21,
     "metadata": {},
     "output_type": "execute_result"
    }
   ],
   "source": [
    "freq = make_wf_df(df[(df['likes'] == 'high') & (df['author.uniqueId'] == 'spencerx')]['desc'])\n",
    "n_HighTikToks = len(df[(df['likes'] == 'high') & (df['author.uniqueId'] == 'spencerx')])\n",
    "freq.sum().sort_values(ascending=False)[:10]/n_HighTikToks"
   ]
  },
  {
   "cell_type": "code",
   "execution_count": 22,
   "metadata": {},
   "outputs": [
    {
     "data": {
      "text/plain": [
       "beatbox        0.359606\n",
       "challenge      0.123153\n",
       "joeyklaasen    0.076355\n",
       "beatboxer      0.064039\n",
       "duet           0.061576\n",
       "dtype: float64"
      ]
     },
     "execution_count": 22,
     "metadata": {},
     "output_type": "execute_result"
    }
   ],
   "source": [
    "freq = make_wf_df(df[(df['likes'] == 'low') & (df['author.uniqueId'] == 'spencerx')]['desc'])\n",
    "n_LowTikToks = len(df[(df['likes'] == 'low') & (df['author.uniqueId'] == 'spencerx')])\n",
    "freq.sum().sort_values(ascending=False)[:5]/n_LowTikToks"
   ]
  },
  {
   "cell_type": "code",
   "execution_count": 23,
   "metadata": {},
   "outputs": [
    {
     "data": {
      "text/plain": [
       "low     406\n",
       "high     93\n",
       "Name: likes, dtype: int64"
      ]
     },
     "execution_count": 23,
     "metadata": {},
     "output_type": "execute_result"
    }
   ],
   "source": [
    "df[df['author.uniqueId'] == 'spencerx']['likes'].value_counts()"
   ]
  },
  {
   "cell_type": "markdown",
   "metadata": {},
   "source": [
    "We can clearly see that Spencer Polanco's videos are not so liked as, for instance, Charli d'Amelio. This led the initial word frequency matrix to show biased results. Further analysis with percetages showed that 36% of 406 videos with a few likes mention the word beatbox but the 50% of 93 with a lot of likes mention the same word. Therefore, we can't argue that this word is a key for a few likes. The contrary, we can conclude that by the time Spencer Polanco started using this word in his video's description, his videos have become more liked. \n",
    "\n",
    "Moreover, 'justmaiko', 'itsjonathanle' and 'joeyklaasen' (all famous TikTok accounts) seam to appear very often in the most liked videos of @spencerx which means that his collaborations bring more likes.\n",
    "\n",
    "Finally, the word 'prank' appears on the top videos which clearly indicates the love of the viewers for pranks."
   ]
  },
  {
   "cell_type": "markdown",
   "metadata": {},
   "source": [
    "#### Michael Le (@justmaiko)"
   ]
  },
  {
   "cell_type": "code",
   "execution_count": 24,
   "metadata": {},
   "outputs": [
    {
     "data": {
      "text/plain": [
       "itsjonathanle     0.27500\n",
       "bangenergy        0.27500\n",
       "justjonathan14    0.13125\n",
       "ceo               0.11875\n",
       "dance             0.09375\n",
       "dtype: float64"
      ]
     },
     "execution_count": 24,
     "metadata": {},
     "output_type": "execute_result"
    }
   ],
   "source": [
    "freq = make_wf_df(df[(df['likes'] == 'high') & (df['author.uniqueId'] == 'justmaiko')]['desc'])\n",
    "n_HighTikToks = len(df[(df['likes'] == 'high') & (df['author.uniqueId'] == 'justmaiko')])\n",
    "freq.sum().sort_values(ascending=False)[:5]/n_HighTikToks"
   ]
  },
  {
   "cell_type": "code",
   "execution_count": 25,
   "metadata": {},
   "outputs": [
    {
     "data": {
      "text/plain": [
       "bangenergy        0.479412\n",
       "ceo               0.164706\n",
       "new               0.091176\n",
       "dance             0.088235\n",
       "theshluvfamily    0.079412\n",
       "dtype: float64"
      ]
     },
     "execution_count": 25,
     "metadata": {},
     "output_type": "execute_result"
    }
   ],
   "source": [
    "freq = make_wf_df(df[(df['likes'] == 'low') & (df['author.uniqueId'] == 'justmaiko')]['desc'])\n",
    "n_LowTikToks = len(df[(df['likes'] == 'low') & (df['author.uniqueId'] == 'justmaiko')])\n",
    "freq.sum().sort_values(ascending=False)[:5]/n_LowTikToks"
   ]
  },
  {
   "cell_type": "code",
   "execution_count": 26,
   "metadata": {},
   "outputs": [
    {
     "data": {
      "text/plain": [
       "low     340\n",
       "high    160\n",
       "Name: likes, dtype: int64"
      ]
     },
     "execution_count": 26,
     "metadata": {},
     "output_type": "execute_result"
    }
   ],
   "source": [
    "df[df['author.uniqueId'] == 'justmaiko']['likes'].value_counts()"
   ]
  },
  {
   "cell_type": "markdown",
   "metadata": {},
   "source": [
    "In Michael Le's rates, it is clear that his followers do not really appreciate the product placement (Bang Energy). Moreover, his collaborations with Jonathan Le seam to be a boost for more likes."
   ]
  },
  {
   "cell_type": "markdown",
   "metadata": {},
   "source": [
    "# Topic modeling"
   ]
  },
  {
   "cell_type": "markdown",
   "metadata": {},
   "source": [
    "From the information we scraped from Wikipedia, many of the top TikTokers are singers or dancers. In this section we will conduct a model that, based on the topics of the descriptions, will predict whether the respective creator is a dancer/singer or something else."
   ]
  },
  {
   "cell_type": "code",
   "execution_count": 27,
   "metadata": {},
   "outputs": [
    {
     "data": {
      "text/plain": [
       "singer/dancer    2299\n",
       "other             807\n",
       "Name: dancer_singer, dtype: int64"
      ]
     },
     "execution_count": 27,
     "metadata": {},
     "output_type": "execute_result"
    }
   ],
   "source": [
    "df['dancer_singer'].value_counts()"
   ]
  },
  {
   "cell_type": "markdown",
   "metadata": {},
   "source": [
    "The data set is not balanced between dancers-singers and others so we will collect some extra data from new acounts that we know that they are social media personalities or actors."
   ]
  },
  {
   "cell_type": "code",
   "execution_count": 31,
   "metadata": {},
   "outputs": [],
   "source": [
    "brentrivera = api.by_username(username='brentrivera', count = 500)\n",
    "therock = api.by_username(username='therock', count = 500)\n",
    "jamescharles = api.by_username(username='jamescharles', count = 500)\n",
    "_arishfakhan_ = api.by_username(username='_arishfakhan_', count = 500)"
   ]
  },
  {
   "cell_type": "code",
   "execution_count": 41,
   "metadata": {},
   "outputs": [],
   "source": [
    "with open('brentrivera.jason', 'w') as json_file:\n",
    "    json.dump(brentrivera, json_file)\n",
    "with open('therock.jason', 'w') as json_file:\n",
    "    json.dump(therock, json_file)\n",
    "with open('jamescharles.jason', 'w') as json_file:\n",
    "    json.dump(jamescharles, json_file)\n",
    "with open('_arishfakhan_.jason', 'w') as json_file:\n",
    "    json.dump(_arishfakhan_, json_file)"
   ]
  },
  {
   "cell_type": "code",
   "execution_count": 42,
   "metadata": {},
   "outputs": [
    {
     "name": "stderr",
     "output_type": "stream",
     "text": [
      "<ipython-input-42-84d43b61a7ed>:1: FutureWarning: pandas.io.json.json_normalize is deprecated, use pandas.json_normalize instead\n",
      "  json_brentrivera = json_normalize(brentrivera)\n",
      "<ipython-input-42-84d43b61a7ed>:2: FutureWarning: pandas.io.json.json_normalize is deprecated, use pandas.json_normalize instead\n",
      "  json_therock = json_normalize(therock)\n",
      "<ipython-input-42-84d43b61a7ed>:3: FutureWarning: pandas.io.json.json_normalize is deprecated, use pandas.json_normalize instead\n",
      "  json_jamescharles = json_normalize(jamescharles)\n",
      "<ipython-input-42-84d43b61a7ed>:4: FutureWarning: pandas.io.json.json_normalize is deprecated, use pandas.json_normalize instead\n",
      "  json__arishfakhan_ = json_normalize(_arishfakhan_)\n"
     ]
    }
   ],
   "source": [
    "json_brentrivera = json_normalize(brentrivera)\n",
    "json_therock = json_normalize(therock)\n",
    "json_jamescharles = json_normalize(jamescharles)\n",
    "json__arishfakhan_ = json_normalize(_arishfakhan_)"
   ]
  },
  {
   "cell_type": "code",
   "execution_count": 43,
   "metadata": {},
   "outputs": [],
   "source": [
    "df_brentrivera = pd.DataFrame(json_brentrivera)\n",
    "df_therock = pd.DataFrame(json_therock)\n",
    "df_jamescharles = pd.DataFrame(json_jamescharles)\n",
    "df_arishfakhan_ = pd.DataFrame(json__arishfakhan_)"
   ]
  },
  {
   "cell_type": "code",
   "execution_count": 44,
   "metadata": {},
   "outputs": [],
   "source": [
    "dfe = pd.concat([df, df_brentrivera, df_therock, df_jamescharles, df_arishfakhan_], axis=0, ignore_index=True)"
   ]
  },
  {
   "cell_type": "code",
   "execution_count": 45,
   "metadata": {},
   "outputs": [
    {
     "data": {
      "text/plain": [
       "0       singer/dancer\n",
       "1       singer/dancer\n",
       "2       singer/dancer\n",
       "3       singer/dancer\n",
       "4       singer/dancer\n",
       "            ...      \n",
       "4381            other\n",
       "4382            other\n",
       "4383            other\n",
       "4384            other\n",
       "4385            other\n",
       "Name: dancer_singer, Length: 4386, dtype: object"
      ]
     },
     "execution_count": 45,
     "metadata": {},
     "output_type": "execute_result"
    }
   ],
   "source": [
    "dfe['dancer_singer'] = dfe['author.uniqueId'].apply(lambda x: isdancer(x))\n",
    "dfe['dancer_singer']"
   ]
  },
  {
   "cell_type": "code",
   "execution_count": 46,
   "metadata": {},
   "outputs": [
    {
     "data": {
      "text/plain": [
       "singer/dancer    2299\n",
       "other            2087\n",
       "Name: dancer_singer, dtype: int64"
      ]
     },
     "execution_count": 46,
     "metadata": {},
     "output_type": "execute_result"
    }
   ],
   "source": [
    "dfe['dancer_singer'].value_counts()"
   ]
  },
  {
   "cell_type": "markdown",
   "metadata": {},
   "source": [
    "Now the data set is way more balanced.\n",
    "Note: The fact that we needed more accounts to balance our data is because the dancers have more uploaded content. From each TikToker we collected not more than 500 videos but not all of them had 500 videos in their account. This is absolutely resonable because for example Zach King (@zachking) is creating videos that are like short films with a whole crue behind the scenes whereas Addison Rae (@addisonre) can literaly post one video per day."
   ]
  },
  {
   "cell_type": "markdown",
   "metadata": {},
   "source": [
    "##### Cleaning data"
   ]
  },
  {
   "cell_type": "code",
   "execution_count": 47,
   "metadata": {},
   "outputs": [],
   "source": [
    "dfe['desc'] = remove_punctuations(dfe['desc'])\n",
    "dfe['desc'] = dfe['desc'].apply(lambda x: remove_stopwords(x))\n",
    "dfe['desc'] = dfe['desc'].apply(lambda x: lemmatize_sentence(x))"
   ]
  },
  {
   "cell_type": "code",
   "execution_count": 48,
   "metadata": {},
   "outputs": [],
   "source": [
    "dfe.to_csv('TikTokData_ext.csv',index=False)"
   ]
  },
  {
   "cell_type": "code",
   "execution_count": 4,
   "metadata": {},
   "outputs": [],
   "source": [
    "import pandas as pd\n",
    "dfe = pd.read_csv('TikTokData_ext.csv')"
   ]
  },
  {
   "cell_type": "code",
   "execution_count": 7,
   "metadata": {},
   "outputs": [
    {
     "data": {
      "text/plain": [
       "4381    chal issi bahane yaad toh aa raha ho mein🔥 ari...\n",
       "4382    side effect watch big bos much😂 ft eshaankhan1...\n",
       "4383    konse taaj ho gaye tum 🔥 arishfakhan duetwitha...\n",
       "4384    piche hi hai😂 nomaankhan 07 mudeemkhan arishfa...\n",
       "4385    dheere dheere se😂 nomaankhan 07 arishfakhan no...\n",
       "Name: desc, dtype: object"
      ]
     },
     "execution_count": 7,
     "metadata": {},
     "output_type": "execute_result"
    }
   ],
   "source": [
    "dfe['desc'].tail()"
   ]
  },
  {
   "cell_type": "markdown",
   "metadata": {},
   "source": [
    "## Training"
   ]
  },
  {
   "cell_type": "code",
   "execution_count": 49,
   "metadata": {},
   "outputs": [],
   "source": [
    "import pandas as pd\n",
    "\n",
    "from sklearn.feature_extraction.text import CountVectorizer\n",
    "\n",
    "\n",
    "pd.set_option('display.max_colwidth', 120)"
   ]
  },
  {
   "cell_type": "code",
   "execution_count": 50,
   "metadata": {},
   "outputs": [],
   "source": [
    "from sklearn.decomposition import LatentDirichletAllocation"
   ]
  },
  {
   "cell_type": "markdown",
   "metadata": {},
   "source": [
    "Some words that every one uses and do not give any hint about the content of the video and the topic."
   ]
  },
  {
   "cell_type": "code",
   "execution_count": 51,
   "metadata": {},
   "outputs": [],
   "source": [
    "useless_words = ['go', 'one', 'want', 'always', 'try', 'really', 'come', 'turn', 'wait', 'take', 'first', 'back', \n",
    "                 'know','let', 'say', 'way', 'use', 'think', 'look']"
   ]
  },
  {
   "cell_type": "code",
   "execution_count": 52,
   "metadata": {},
   "outputs": [],
   "source": [
    "vectorizer = CountVectorizer(lowercase   = True,\n",
    "                             ngram_range = (1,2),\n",
    "                             max_df      = .8,\n",
    "                             stop_words  = useless_words,\n",
    "                             min_df      = .005,\n",
    "                             max_features = None)"
   ]
  },
  {
   "cell_type": "markdown",
   "metadata": {},
   "source": [
    "Split the data into training and test set"
   ]
  },
  {
   "cell_type": "code",
   "execution_count": 53,
   "metadata": {},
   "outputs": [],
   "source": [
    "from sklearn.model_selection import train_test_split"
   ]
  },
  {
   "cell_type": "code",
   "execution_count": 55,
   "metadata": {},
   "outputs": [],
   "source": [
    "size = round(len(dfe)*0.7)"
   ]
  },
  {
   "cell_type": "code",
   "execution_count": 56,
   "metadata": {},
   "outputs": [],
   "source": [
    "train, test = train_test_split(dfe,train_size=size)"
   ]
  },
  {
   "cell_type": "markdown",
   "metadata": {},
   "source": [
    "CountVectorizer is a tool used to transform a given text into a vector on the basis of the frequency (count) of each word that occurs in the entire text. "
   ]
  },
  {
   "cell_type": "code",
   "execution_count": 57,
   "metadata": {},
   "outputs": [
    {
     "data": {
      "text/plain": [
       "CountVectorizer(max_df=0.8, min_df=0.005, ngram_range=(1, 2),\n",
       "                stop_words=['go', 'one', 'want', 'always', 'try', 'really',\n",
       "                            'come', 'turn', 'wait', 'take', 'first', 'back',\n",
       "                            'know', 'let', 'say', 'way', 'use', 'think',\n",
       "                            'look'])"
      ]
     },
     "execution_count": 57,
     "metadata": {},
     "output_type": "execute_result"
    }
   ],
   "source": [
    "vectorizer.fit(train['desc'])"
   ]
  },
  {
   "cell_type": "code",
   "execution_count": 58,
   "metadata": {},
   "outputs": [
    {
     "data": {
      "text/plain": [
       "188"
      ]
     },
     "execution_count": 58,
     "metadata": {},
     "output_type": "execute_result"
    }
   ],
   "source": [
    "len(vectorizer.get_feature_names())"
   ]
  },
  {
   "cell_type": "markdown",
   "metadata": {},
   "source": [
    "We transform the text document into a document-term matrix"
   ]
  },
  {
   "cell_type": "code",
   "execution_count": 59,
   "metadata": {},
   "outputs": [],
   "source": [
    "tf = vectorizer.transform(train['desc'])"
   ]
  },
  {
   "cell_type": "markdown",
   "metadata": {},
   "source": [
    "Latent Dirichlet Allocation (LDA) is a topic model technique and is used to classify text in a document to a particular topic."
   ]
  },
  {
   "cell_type": "code",
   "execution_count": 60,
   "metadata": {},
   "outputs": [],
   "source": [
    "lda_model = LatentDirichletAllocation(n_components   = 10,\n",
    "                                      max_iter       = 50,\n",
    "                                      evaluate_every = 7,\n",
    "                                      verbose = 1)"
   ]
  },
  {
   "cell_type": "code",
   "execution_count": 61,
   "metadata": {},
   "outputs": [
    {
     "name": "stdout",
     "output_type": "stream",
     "text": [
      "iteration: 1 of max_iter: 50\n",
      "iteration: 2 of max_iter: 50\n",
      "iteration: 3 of max_iter: 50\n",
      "iteration: 4 of max_iter: 50\n",
      "iteration: 5 of max_iter: 50\n",
      "iteration: 6 of max_iter: 50\n",
      "iteration: 7 of max_iter: 50, perplexity: 113.2441\n",
      "iteration: 8 of max_iter: 50\n",
      "iteration: 9 of max_iter: 50\n",
      "iteration: 10 of max_iter: 50\n",
      "iteration: 11 of max_iter: 50\n",
      "iteration: 12 of max_iter: 50\n",
      "iteration: 13 of max_iter: 50\n",
      "iteration: 14 of max_iter: 50, perplexity: 110.7071\n",
      "iteration: 15 of max_iter: 50\n",
      "iteration: 16 of max_iter: 50\n",
      "iteration: 17 of max_iter: 50\n",
      "iteration: 18 of max_iter: 50\n",
      "iteration: 19 of max_iter: 50\n",
      "iteration: 20 of max_iter: 50\n",
      "iteration: 21 of max_iter: 50, perplexity: 110.6957\n"
     ]
    },
    {
     "data": {
      "text/plain": [
       "LatentDirichletAllocation(evaluate_every=7, max_iter=50, verbose=1)"
      ]
     },
     "execution_count": 61,
     "metadata": {},
     "output_type": "execute_result"
    }
   ],
   "source": [
    "lda_model.fit(tf)"
   ]
  },
  {
   "cell_type": "code",
   "execution_count": 62,
   "metadata": {},
   "outputs": [
    {
     "name": "stdout",
     "output_type": "stream",
     "text": [
      "Log Likelihood:  -37075.342546409745\n",
      "Perplexity:  110.69565979312827\n"
     ]
    }
   ],
   "source": [
    "# Log Likelyhood: Higher the better\n",
    "print(\"Log Likelihood: \", lda_model.score(tf))\n",
    "\n",
    "# Perplexity: Lower the better. Perplexity = exp(-1. * log-likelihood per word)\n",
    "print(\"Perplexity: \", lda_model.perplexity(tf))"
   ]
  },
  {
   "cell_type": "code",
   "execution_count": null,
   "metadata": {},
   "outputs": [],
   "source": [
    "lda_model.transform(tf)"
   ]
  },
  {
   "cell_type": "markdown",
   "metadata": {},
   "source": [
    "#### Logistic Regression"
   ]
  },
  {
   "cell_type": "code",
   "execution_count": 64,
   "metadata": {},
   "outputs": [],
   "source": [
    "from sklearn.linear_model import LogisticRegression\n",
    "from sklearn.metrics import classification_report, confusion_matrix, accuracy_score\n",
    "\n",
    "import seaborn as sns"
   ]
  },
  {
   "cell_type": "code",
   "execution_count": 65,
   "metadata": {},
   "outputs": [],
   "source": [
    "lr_classifier = LogisticRegression(solver = 'lbfgs', max_iter= 5000)"
   ]
  },
  {
   "cell_type": "code",
   "execution_count": 66,
   "metadata": {},
   "outputs": [
    {
     "data": {
      "text/plain": [
       "LogisticRegression(max_iter=5000)"
      ]
     },
     "execution_count": 66,
     "metadata": {},
     "output_type": "execute_result"
    }
   ],
   "source": [
    "lr_classifier.fit(tf, train['dancer_singer'])"
   ]
  },
  {
   "cell_type": "code",
   "execution_count": 67,
   "metadata": {},
   "outputs": [],
   "source": [
    "prediction = lr_classifier.predict(tf)"
   ]
  },
  {
   "cell_type": "code",
   "execution_count": 68,
   "metadata": {},
   "outputs": [
    {
     "name": "stdout",
     "output_type": "stream",
     "text": [
      "0.7745928338762215\n"
     ]
    }
   ],
   "source": [
    "print(accuracy_score(train['dancer_singer'], prediction))"
   ]
  },
  {
   "cell_type": "code",
   "execution_count": 69,
   "metadata": {},
   "outputs": [
    {
     "name": "stdout",
     "output_type": "stream",
     "text": [
      "               precision    recall  f1-score   support\n",
      "\n",
      "        other       0.85      0.65      0.74      1495\n",
      "singer/dancer       0.73      0.89      0.80      1575\n",
      "\n",
      "     accuracy                           0.77      3070\n",
      "    macro avg       0.79      0.77      0.77      3070\n",
      " weighted avg       0.79      0.77      0.77      3070\n",
      "\n"
     ]
    }
   ],
   "source": [
    "print(classification_report(train['dancer_singer'], prediction))"
   ]
  },
  {
   "cell_type": "markdown",
   "metadata": {},
   "source": [
    "## Test"
   ]
  },
  {
   "cell_type": "code",
   "execution_count": 70,
   "metadata": {},
   "outputs": [],
   "source": [
    "tf_test = vectorizer.transform(test['desc'])"
   ]
  },
  {
   "cell_type": "code",
   "execution_count": 71,
   "metadata": {},
   "outputs": [],
   "source": [
    "prediction = lr_classifier.predict(tf_test)"
   ]
  },
  {
   "cell_type": "code",
   "execution_count": 72,
   "metadata": {},
   "outputs": [
    {
     "name": "stdout",
     "output_type": "stream",
     "text": [
      "0.7849544072948328\n"
     ]
    }
   ],
   "source": [
    "print(accuracy_score(test['dancer_singer'], prediction))"
   ]
  },
  {
   "cell_type": "code",
   "execution_count": 73,
   "metadata": {},
   "outputs": [
    {
     "name": "stdout",
     "output_type": "stream",
     "text": [
      "               precision    recall  f1-score   support\n",
      "\n",
      "        other       0.84      0.65      0.73       592\n",
      "singer/dancer       0.76      0.90      0.82       724\n",
      "\n",
      "     accuracy                           0.78      1316\n",
      "    macro avg       0.80      0.77      0.78      1316\n",
      " weighted avg       0.79      0.78      0.78      1316\n",
      "\n"
     ]
    }
   ],
   "source": [
    "print(classification_report(test['dancer_singer'], prediction))"
   ]
  },
  {
   "cell_type": "code",
   "execution_count": 74,
   "metadata": {},
   "outputs": [
    {
     "data": {
      "text/plain": [
       "<AxesSubplot:>"
      ]
     },
     "execution_count": 74,
     "metadata": {},
     "output_type": "execute_result"
    },
    {
     "data": {
      "image/png": "[encoded data removed]",
      "text/plain": [
       "<Figure size 288x216 with 2 Axes>"
      ]
     },
     "metadata": {
      "needs_background": "light"
     },
     "output_type": "display_data"
    }
   ],
   "source": [
    "plt.rcParams['figure.figsize'] = [4, 3]\n",
    "\n",
    "cm = confusion_matrix(test['dancer_singer'], prediction)\n",
    "sns.heatmap(cm, annot=True, cmap=\"Greens\", fmt='g')"
   ]
  },
  {
   "cell_type": "markdown",
   "metadata": {},
   "source": [
    "# Word Embedding\n",
    "In this section, we will use Word2Vec as word embedding algorithm to find semantic relationships between words related to COVID, by observing them in context."
   ]
  },
  {
   "cell_type": "code",
   "execution_count": 8,
   "metadata": {},
   "outputs": [
    {
     "name": "stderr",
     "output_type": "stream",
     "text": [
      "C:\\Users\\zoika\\Anaconda3\\lib\\site-packages\\gensim\\similarities\\__init__.py:15: UserWarning: The gensim.similarities.levenshtein submodule is disabled, because the optional Levenshtein package <https://pypi.org/project/python-Levenshtein/> is unavailable. Install Levenhstein (e.g. `pip install python-Levenshtein`) to suppress this warning.\n",
      "  warnings.warn(msg)\n"
     ]
    }
   ],
   "source": [
    "import pandas as pd\n",
    "import numpy as np\n",
    "import string\n",
    "import os\n",
    "from nltk.tokenize import word_tokenize, sent_tokenize\n",
    "from random import choices\n",
    "from time import time\n",
    "\n",
    "import gensim #library needed for word2vec\n",
    "from gensim.models import KeyedVectors"
   ]
  },
  {
   "cell_type": "code",
   "execution_count": 9,
   "metadata": {},
   "outputs": [
    {
     "name": "stderr",
     "output_type": "stream",
     "text": [
      "[nltk_data] Downloading package punkt to\n",
      "[nltk_data]     C:\\Users\\zoika\\AppData\\Roaming\\nltk_data...\n",
      "[nltk_data]   Package punkt is already up-to-date!\n"
     ]
    },
    {
     "data": {
      "text/plain": [
       "True"
      ]
     },
     "execution_count": 9,
     "metadata": {},
     "output_type": "execute_result"
    }
   ],
   "source": [
    "import nltk\n",
    "nltk.download('punkt')"
   ]
  },
  {
   "cell_type": "code",
   "execution_count": 10,
   "metadata": {},
   "outputs": [],
   "source": [
    "def fast_tokenize(text):\n",
    "    \n",
    "    # Get a list of punctuation marks\n",
    "    punct = string.punctuation + '“' + '”' + '‘' + \"’\"\n",
    "    \n",
    "    lower_case = text.lower()\n",
    "    lower_case = lower_case.replace('—', ' ').replace('\\n', ' ')\n",
    "    \n",
    "    # Iterate through text removing punctuation characters\n",
    "    no_punct = \"\".join([char for char in lower_case if char not in punct])\n",
    "    \n",
    "    # Split text over whitespace into list of words\n",
    "    tokens = no_punct.split()\n",
    "    \n",
    "    return tokens"
   ]
  },
  {
   "cell_type": "code",
   "execution_count": 18,
   "metadata": {},
   "outputs": [],
   "source": [
    "texts = dfe['desc'].values"
   ]
  },
  {
   "cell_type": "code",
   "execution_count": null,
   "metadata": {},
   "outputs": [],
   "source": [
    "print(f'Found {len(texts)} texts.')\n",
    "\n",
    "# Flatten a list of lists. \n",
    "sentences = [s for t in texts for s in sent_tokenize(t)]\n",
    "print(f'Found {len(sentences)} sentences.')\n",
    "\n",
    "words_by_sentence = [fast_tokenize(s) for s in sentences]\n",
    "words_by_sentence = [s for s in words_by_sentence if s != []]\n",
    "words_by_sentence = [s for s in words_by_sentence if len(s) > 2]\n",
    "\n",
    "\n",
    "print(f'Found {len(words_by_sentence)} sentences after removing blank ones.')\n",
    "print('First sentence words:')\n",
    "print(words_by_sentence[0])"
   ]
  },
  {
   "cell_type": "code",
   "execution_count": 55,
   "metadata": {},
   "outputs": [],
   "source": [
    "w2v_model = gensim.models.Word2Vec()"
   ]
  },
  {
   "cell_type": "code",
   "execution_count": null,
   "metadata": {},
   "outputs": [],
   "source": [
    "w2v_model.build_vocab(words_by_sentence, \n",
    "                      progress_per=10000)"
   ]
  },
  {
   "cell_type": "code",
   "execution_count": 129,
   "metadata": {},
   "outputs": [
    {
     "data": {
      "text/plain": [
       "25754"
      ]
     },
     "execution_count": 129,
     "metadata": {},
     "output_type": "execute_result"
    }
   ],
   "source": [
    "w2v_model.corpus_total_words"
   ]
  },
  {
   "cell_type": "code",
   "execution_count": 130,
   "metadata": {},
   "outputs": [
    {
     "name": "stdout",
     "output_type": "stream",
     "text": [
      "Time to train the model: 0.01 mins\n"
     ]
    }
   ],
   "source": [
    "t = time()\n",
    "\n",
    "w2v_model.train(words_by_sentence, \n",
    "                total_examples=w2v_model.corpus_count, \n",
    "                epochs=20, \n",
    "                report_delay=1)\n",
    "\n",
    "print('Time to train the model: {} mins'.format(round((time() - t) / 60, 2)))"
   ]
  },
  {
   "cell_type": "code",
   "execution_count": 131,
   "metadata": {},
   "outputs": [],
   "source": [
    "w2v_model.save('train.bin')"
   ]
  },
  {
   "cell_type": "code",
   "execution_count": 134,
   "metadata": {},
   "outputs": [
    {
     "data": {
      "text/plain": [
       "[('way', 0.9914496541023254),\n",
       " ('around', 0.9911438822746277),\n",
       " ('school', 0.9908774495124817),\n",
       " ('hahah', 0.9907355904579163),\n",
       " ('bore', 0.9905210137367249),\n",
       " ('😳', 0.9899190068244934),\n",
       " ('brother', 0.989485502243042),\n",
       " ('fam', 0.9893572926521301),\n",
       " ('🗣🎶😜', 0.9890853762626648),\n",
       " ('crush', 0.9890433549880981),\n",
       " ('else', 0.988823652267456),\n",
       " ('water', 0.9885749816894531),\n",
       " ('demon', 0.9884837865829468),\n",
       " ('lip', 0.9881579875946045),\n",
       " ('😩😂', 0.9881491661071777),\n",
       " ('test', 0.98811936378479),\n",
       " ('fulp', 0.9879870414733887),\n",
       " ('hand', 0.9879282712936401),\n",
       " ('mason', 0.9878833889961243),\n",
       " ('friday', 0.9878057241439819),\n",
       " ('matter', 0.9877769947052002),\n",
       " ('piersonwodzynski', 0.9877405762672424),\n",
       " ('steal', 0.9876924753189087),\n",
       " ('summer', 0.9876732230186462),\n",
       " ('sorry', 0.9876194596290588),\n",
       " ('kinda', 0.9875965714454651),\n",
       " ('close', 0.9875231981277466),\n",
       " ('lit', 0.9874730706214905),\n",
       " ('turn', 0.9874617457389832),\n",
       " ('scar', 0.9872546792030334)]"
      ]
     },
     "execution_count": 134,
     "metadata": {},
     "output_type": "execute_result"
    }
   ],
   "source": [
    "w2v_model.wv.most_similar('quarantine', topn=30)"
   ]
  },
  {
   "cell_type": "code",
   "execution_count": 135,
   "metadata": {},
   "outputs": [
    {
     "data": {
      "text/plain": [
       "[('stayhome', 0.9985862970352173),\n",
       " ('coronavirus', 0.9982028007507324),\n",
       " ('comedyindia', 0.9965627789497375),\n",
       " ('covid19', 0.9963068962097168),\n",
       " ('funny', 0.995944619178772),\n",
       " ('eshaankhan138', 0.995597779750824),\n",
       " ('trending', 0.9947581887245178),\n",
       " ('jantacurfew', 0.9945372343063354),\n",
       " ('iameshaankhan', 0.9925633668899536),\n",
       " ('eshaankhan', 0.9918149709701538),\n",
       " ('07', 0.9891471266746521),\n",
       " ('nomaankhan', 0.9885111451148987),\n",
       " ('hai😂', 0.9879819750785828),\n",
       " ('eshaankhan1380', 0.9875969290733337),\n",
       " ('138', 0.9873960614204407),\n",
       " ('arshkhan138', 0.9872745275497437),\n",
       " ('ft', 0.9864107370376587),\n",
       " ('heenakhan', 0.984297513961792),\n",
       " ('ha', 0.9841280579566956),\n",
       " ('arshkhan', 0.9818455576896667),\n",
       " ('arishakhan138', 0.9789426922798157),\n",
       " ('mudeemkhan', 0.9782131910324097),\n",
       " ('comedy', 0.9776558876037598),\n",
       " ('toh', 0.9774078726768494),\n",
       " ('ramadan', 0.9766396284103394),\n",
       " ('se', 0.9763845801353455),\n",
       " ('pe', 0.9762681126594543),\n",
       " ('ramzanmubarak', 0.9756631851196289),\n",
       " ('arishfakhan', 0.9750940203666687),\n",
       " ('trend', 0.9750422835350037)]"
      ]
     },
     "execution_count": 135,
     "metadata": {},
     "output_type": "execute_result"
    }
   ],
   "source": [
    "w2v_model.wv.most_similar('staysafe', topn=30)"
   ]
  },
  {
   "cell_type": "code",
   "execution_count": 136,
   "metadata": {},
   "outputs": [
    {
     "data": {
      "text/plain": [
       "[('jantacurfew', 0.9987531304359436),\n",
       " ('coronavirus', 0.9986796379089355),\n",
       " ('staysafe', 0.9963068962097168),\n",
       " ('hai😂', 0.9957605004310608),\n",
       " ('iameshaankhan', 0.9951884746551514),\n",
       " ('stayhome', 0.9948390126228333),\n",
       " ('arshkhan138', 0.9946832060813904),\n",
       " ('eshaankhan', 0.993990957736969),\n",
       " ('eshaankhan138', 0.9933568239212036),\n",
       " ('07', 0.9932406544685364),\n",
       " ('nomaankhan', 0.991871178150177),\n",
       " ('funny', 0.9917089343070984),\n",
       " ('comedyindia', 0.9916037917137146),\n",
       " ('ha', 0.9904179573059082),\n",
       " ('arshkhan', 0.9902092218399048),\n",
       " ('eshaankhan1380', 0.9902033805847168),\n",
       " ('comedy', 0.989858865737915),\n",
       " ('ft', 0.9897069334983826),\n",
       " ('arishakhan138', 0.989604115486145),\n",
       " ('mudeemkhan', 0.9891363978385925),\n",
       " ('pe', 0.9885522723197937),\n",
       " ('138', 0.9881685972213745),\n",
       " ('trending', 0.9880058169364929),\n",
       " ('pagal', 0.987541139125824),\n",
       " ('heenakhan', 0.9872198104858398),\n",
       " ('se', 0.9864794015884399),\n",
       " ('hota', 0.986078679561615),\n",
       " ('toh', 0.9860324263572693),\n",
       " ('hi', 0.9851862788200378),\n",
       " ('na😂', 0.984988272190094)]"
      ]
     },
     "execution_count": 136,
     "metadata": {},
     "output_type": "execute_result"
    }
   ],
   "source": [
    "w2v_model.wv.most_similar('covid19', topn=30)"
   ]
  },
  {
   "cell_type": "code",
   "execution_count": 138,
   "metadata": {},
   "outputs": [
    {
     "data": {
      "text/plain": [
       "[('covid19', 0.9986795783042908),\n",
       " ('staysafe', 0.9982028007507324),\n",
       " ('jantacurfew', 0.9976730942726135),\n",
       " ('stayhome', 0.99742591381073),\n",
       " ('eshaankhan138', 0.9949083924293518),\n",
       " ('iameshaankhan', 0.9943079352378845),\n",
       " ('comedyindia', 0.9942886829376221),\n",
       " ('funny', 0.9942829012870789),\n",
       " ('eshaankhan', 0.9936314225196838),\n",
       " ('hai😂', 0.9927458763122559),\n",
       " ('arshkhan138', 0.992164671421051),\n",
       " ('07', 0.9921606779098511),\n",
       " ('trending', 0.9914564490318298),\n",
       " ('nomaankhan', 0.9907727837562561),\n",
       " ('eshaankhan1380', 0.989766538143158),\n",
       " ('ft', 0.9889075756072998),\n",
       " ('138', 0.9882835149765015),\n",
       " ('ha', 0.9880750179290771),\n",
       " ('arshkhan', 0.9873921871185303),\n",
       " ('heenakhan', 0.9864031076431274),\n",
       " ('arishakhan138', 0.9857668280601501),\n",
       " ('mudeemkhan', 0.9851154685020447),\n",
       " ('comedy', 0.9851028919219971),\n",
       " ('pe', 0.9837353825569153),\n",
       " ('toh', 0.9828157424926758),\n",
       " ('se', 0.9825538396835327),\n",
       " ('pagal', 0.9821006059646606),\n",
       " ('ramadan', 0.9813359975814819),\n",
       " ('hota', 0.9809873700141907),\n",
       " ('hi', 0.980104386806488)]"
      ]
     },
     "execution_count": 138,
     "metadata": {},
     "output_type": "execute_result"
    }
   ],
   "source": [
    "w2v_model.wv.most_similar('coronavirus', topn=30)"
   ]
  },
  {
   "cell_type": "code",
   "execution_count": 121,
   "metadata": {},
   "outputs": [
    {
     "data": {
      "text/plain": [
       "0.9996749"
      ]
     },
     "execution_count": 121,
     "metadata": {},
     "output_type": "execute_result"
    }
   ],
   "source": [
    "w2v_model.wv.similarity('coronavirus', 'covid19')"
   ]
  },
  {
   "cell_type": "markdown",
   "metadata": {},
   "source": [
    "### Word frequency of dfe"
   ]
  },
  {
   "cell_type": "markdown",
   "metadata": {},
   "source": [
    "We will take the words related to COVID that we found in embedding and we will project them in the frequency matrix"
   ]
  },
  {
   "cell_type": "code",
   "execution_count": null,
   "metadata": {},
   "outputs": [],
   "source": [
    "wf_dfe = make_wf_df(dfe['desc'])"
   ]
  },
  {
   "cell_type": "code",
   "execution_count": 140,
   "metadata": {},
   "outputs": [],
   "source": [
    "showme = ['quarantine', 'coronavirus', 'vaccine', 'staysafe','stayhome', 'covid19', 'covid']"
   ]
  },
  {
   "cell_type": "code",
   "execution_count": 141,
   "metadata": {},
   "outputs": [
    {
     "data": {
      "text/html": [
       "<div>\n",
       "<style scoped>\n",
       "    .dataframe tbody tr th:only-of-type {\n",
       "        vertical-align: middle;\n",
       "    }\n",
       "\n",
       "    .dataframe tbody tr th {\n",
       "        vertical-align: top;\n",
       "    }\n",
       "\n",
       "    .dataframe thead th {\n",
       "        text-align: right;\n",
       "    }\n",
       "</style>\n",
       "<table border=\"1\" class=\"dataframe\">\n",
       "  <thead>\n",
       "    <tr style=\"text-align: right;\">\n",
       "      <th></th>\n",
       "      <th>quarantine</th>\n",
       "      <th>coronavirus</th>\n",
       "      <th>vaccine</th>\n",
       "      <th>staysafe</th>\n",
       "      <th>stayhome</th>\n",
       "      <th>covid19</th>\n",
       "      <th>covid</th>\n",
       "    </tr>\n",
       "  </thead>\n",
       "  <tbody>\n",
       "    <tr>\n",
       "      <th>1992</th>\n",
       "      <td>0</td>\n",
       "      <td>0</td>\n",
       "      <td>0</td>\n",
       "      <td>0</td>\n",
       "      <td>0</td>\n",
       "      <td>0</td>\n",
       "      <td>0</td>\n",
       "    </tr>\n",
       "    <tr>\n",
       "      <th>4126</th>\n",
       "      <td>0</td>\n",
       "      <td>0</td>\n",
       "      <td>0</td>\n",
       "      <td>0</td>\n",
       "      <td>0</td>\n",
       "      <td>0</td>\n",
       "      <td>0</td>\n",
       "    </tr>\n",
       "    <tr>\n",
       "      <th>1832</th>\n",
       "      <td>0</td>\n",
       "      <td>0</td>\n",
       "      <td>0</td>\n",
       "      <td>0</td>\n",
       "      <td>0</td>\n",
       "      <td>0</td>\n",
       "      <td>0</td>\n",
       "    </tr>\n",
       "    <tr>\n",
       "      <th>724</th>\n",
       "      <td>0</td>\n",
       "      <td>0</td>\n",
       "      <td>0</td>\n",
       "      <td>0</td>\n",
       "      <td>0</td>\n",
       "      <td>0</td>\n",
       "      <td>0</td>\n",
       "    </tr>\n",
       "    <tr>\n",
       "      <th>100</th>\n",
       "      <td>0</td>\n",
       "      <td>0</td>\n",
       "      <td>0</td>\n",
       "      <td>0</td>\n",
       "      <td>0</td>\n",
       "      <td>0</td>\n",
       "      <td>0</td>\n",
       "    </tr>\n",
       "  </tbody>\n",
       "</table>\n",
       "</div>"
      ],
      "text/plain": [
       "      quarantine  coronavirus  vaccine  staysafe  stayhome  covid19  covid\n",
       "1992           0            0        0         0         0        0      0\n",
       "4126           0            0        0         0         0        0      0\n",
       "1832           0            0        0         0         0        0      0\n",
       "724            0            0        0         0         0        0      0\n",
       "100            0            0        0         0         0        0      0"
      ]
     },
     "execution_count": 141,
     "metadata": {},
     "output_type": "execute_result"
    }
   ],
   "source": [
    "wf_dfe[showme].sample(5)"
   ]
  },
  {
   "cell_type": "code",
   "execution_count": 142,
   "metadata": {},
   "outputs": [],
   "source": [
    "covid_df = pd.DataFrame(wf_dfe[showme])"
   ]
  },
  {
   "cell_type": "markdown",
   "metadata": {},
   "source": [
    "The sum of each row will show whether a post is related to the visrus or not."
   ]
  },
  {
   "cell_type": "code",
   "execution_count": 143,
   "metadata": {},
   "outputs": [],
   "source": [
    "sum_row = covid_df.sum(axis=1)"
   ]
  },
  {
   "cell_type": "code",
   "execution_count": 144,
   "metadata": {},
   "outputs": [],
   "source": [
    "covid = pd.concat([dfe, covid_df, sum_row], axis=1)"
   ]
  },
  {
   "cell_type": "code",
   "execution_count": 145,
   "metadata": {},
   "outputs": [
    {
     "data": {
      "text/html": [
       "<div>\n",
       "<style scoped>\n",
       "    .dataframe tbody tr th:only-of-type {\n",
       "        vertical-align: middle;\n",
       "    }\n",
       "\n",
       "    .dataframe tbody tr th {\n",
       "        vertical-align: top;\n",
       "    }\n",
       "\n",
       "    .dataframe thead th {\n",
       "        text-align: right;\n",
       "    }\n",
       "</style>\n",
       "<table border=\"1\" class=\"dataframe\">\n",
       "  <thead>\n",
       "    <tr style=\"text-align: right;\">\n",
       "      <th></th>\n",
       "      <th>id</th>\n",
       "      <th>desc</th>\n",
       "      <th>video.playAddr</th>\n",
       "      <th>author.uniqueId</th>\n",
       "      <th>author.nickname</th>\n",
       "      <th>stats.diggCount</th>\n",
       "      <th>stats.shareCount</th>\n",
       "      <th>stats.commentCount</th>\n",
       "      <th>stats.playCount</th>\n",
       "      <th>authorStats.followingCount</th>\n",
       "      <th>...</th>\n",
       "      <th>music.scheduleSearchTime</th>\n",
       "      <th>warnInfo</th>\n",
       "      <th>quarantine</th>\n",
       "      <th>coronavirus</th>\n",
       "      <th>vaccine</th>\n",
       "      <th>staysafe</th>\n",
       "      <th>stayhome</th>\n",
       "      <th>covid19</th>\n",
       "      <th>covid</th>\n",
       "      <th>sum</th>\n",
       "    </tr>\n",
       "  </thead>\n",
       "  <tbody>\n",
       "    <tr>\n",
       "      <th>0</th>\n",
       "      <td>6964810925803130118</td>\n",
       "      <td>new fav takisusa💜 takisusa ad</td>\n",
       "      <td>https://v16-web.tiktok.com/video/tos/useast2a/tos-useast2a-ve-0068c002/2762745754414603ac181524af6ea4e6/?a=1988&amp;br=2...</td>\n",
       "      <td>charlidamelio</td>\n",
       "      <td>charli d’amelio</td>\n",
       "      <td>3800000</td>\n",
       "      <td>77000</td>\n",
       "      <td>89800</td>\n",
       "      <td>19600000</td>\n",
       "      <td>1208</td>\n",
       "      <td>...</td>\n",
       "      <td>NaN</td>\n",
       "      <td>NaN</td>\n",
       "      <td>0</td>\n",
       "      <td>0</td>\n",
       "      <td>0</td>\n",
       "      <td>0</td>\n",
       "      <td>0</td>\n",
       "      <td>0</td>\n",
       "      <td>0</td>\n",
       "      <td>0</td>\n",
       "    </tr>\n",
       "    <tr>\n",
       "      <th>1</th>\n",
       "      <td>6964547004424932613</td>\n",
       "      <td>get first vaccine shot today 💕 dc oh phoebe</td>\n",
       "      <td>https://v16-web.tiktok.com/video/tos/useast2a/tos-useast2a-ve-0068c002/6d791081969d422bb010724facac4b0f/?a=1988&amp;br=3...</td>\n",
       "      <td>charlidamelio</td>\n",
       "      <td>charli d’amelio</td>\n",
       "      <td>3000000</td>\n",
       "      <td>44800</td>\n",
       "      <td>72800</td>\n",
       "      <td>15200000</td>\n",
       "      <td>1208</td>\n",
       "      <td>...</td>\n",
       "      <td>NaN</td>\n",
       "      <td>NaN</td>\n",
       "      <td>0</td>\n",
       "      <td>0</td>\n",
       "      <td>1</td>\n",
       "      <td>0</td>\n",
       "      <td>0</td>\n",
       "      <td>0</td>\n",
       "      <td>0</td>\n",
       "      <td>1</td>\n",
       "    </tr>\n",
       "    <tr>\n",
       "      <th>2</th>\n",
       "      <td>6964479235876572421</td>\n",
       "      <td>’ finally shop socialtourist wethetourists socialtouristfounder 💕</td>\n",
       "      <td>https://v16-web.tiktok.com/video/tos/useast2a/tos-useast2a-pve-0068/e3ac18d35ff645a09d48d139c491e541/?a=1988&amp;br=2496...</td>\n",
       "      <td>charlidamelio</td>\n",
       "      <td>charli d’amelio</td>\n",
       "      <td>1600000</td>\n",
       "      <td>21900</td>\n",
       "      <td>29700</td>\n",
       "      <td>9400000</td>\n",
       "      <td>1208</td>\n",
       "      <td>...</td>\n",
       "      <td>NaN</td>\n",
       "      <td>NaN</td>\n",
       "      <td>0</td>\n",
       "      <td>0</td>\n",
       "      <td>0</td>\n",
       "      <td>0</td>\n",
       "      <td>0</td>\n",
       "      <td>0</td>\n",
       "      <td>0</td>\n",
       "      <td>0</td>\n",
       "    </tr>\n",
       "    <tr>\n",
       "      <th>3</th>\n",
       "      <td>6963692459482189061</td>\n",
       "      <td>dc dariushickman</td>\n",
       "      <td>https://v16-web.tiktok.com/video/tos/useast2a/tos-useast2a-pve-0068/259f87751ce14c54830f817050e7c3e6/?a=1988&amp;br=3444...</td>\n",
       "      <td>charlidamelio</td>\n",
       "      <td>charli d’amelio</td>\n",
       "      <td>2300000</td>\n",
       "      <td>142400</td>\n",
       "      <td>108500</td>\n",
       "      <td>14100000</td>\n",
       "      <td>1208</td>\n",
       "      <td>...</td>\n",
       "      <td>NaN</td>\n",
       "      <td>NaN</td>\n",
       "      <td>0</td>\n",
       "      <td>0</td>\n",
       "      <td>0</td>\n",
       "      <td>0</td>\n",
       "      <td>0</td>\n",
       "      <td>0</td>\n",
       "      <td>0</td>\n",
       "      <td>0</td>\n",
       "    </tr>\n",
       "    <tr>\n",
       "      <th>4</th>\n",
       "      <td>6963488582908579078</td>\n",
       "      <td>come soon hulu thedamelioshow</td>\n",
       "      <td>https://v16-web.tiktok.com/video/tos/useast2a/tos-useast2a-ve-0068c001/66573f5aa662414e96e76be6f3fbecfd/?a=1988&amp;br=2...</td>\n",
       "      <td>charlidamelio</td>\n",
       "      <td>charli d’amelio</td>\n",
       "      <td>2800000</td>\n",
       "      <td>32900</td>\n",
       "      <td>58700</td>\n",
       "      <td>15600000</td>\n",
       "      <td>1208</td>\n",
       "      <td>...</td>\n",
       "      <td>NaN</td>\n",
       "      <td>NaN</td>\n",
       "      <td>0</td>\n",
       "      <td>0</td>\n",
       "      <td>0</td>\n",
       "      <td>0</td>\n",
       "      <td>0</td>\n",
       "      <td>0</td>\n",
       "      <td>0</td>\n",
       "      <td>0</td>\n",
       "    </tr>\n",
       "  </tbody>\n",
       "</table>\n",
       "<p>5 rows × 88 columns</p>\n",
       "</div>"
      ],
      "text/plain": [
       "                    id  \\\n",
       "0  6964810925803130118   \n",
       "1  6964547004424932613   \n",
       "2  6964479235876572421   \n",
       "3  6963692459482189061   \n",
       "4  6963488582908579078   \n",
       "\n",
       "                                                                desc  \\\n",
       "0                                      new fav takisusa💜 takisusa ad   \n",
       "1                        get first vaccine shot today 💕 dc oh phoebe   \n",
       "2  ’ finally shop socialtourist wethetourists socialtouristfounder 💕   \n",
       "3                                                   dc dariushickman   \n",
       "4                                      come soon hulu thedamelioshow   \n",
       "\n",
       "                                                                                                            video.playAddr  \\\n",
       "0  https://v16-web.tiktok.com/video/tos/useast2a/tos-useast2a-ve-0068c002/2762745754414603ac181524af6ea4e6/?a=1988&br=2...   \n",
       "1  https://v16-web.tiktok.com/video/tos/useast2a/tos-useast2a-ve-0068c002/6d791081969d422bb010724facac4b0f/?a=1988&br=3...   \n",
       "2  https://v16-web.tiktok.com/video/tos/useast2a/tos-useast2a-pve-0068/e3ac18d35ff645a09d48d139c491e541/?a=1988&br=2496...   \n",
       "3  https://v16-web.tiktok.com/video/tos/useast2a/tos-useast2a-pve-0068/259f87751ce14c54830f817050e7c3e6/?a=1988&br=3444...   \n",
       "4  https://v16-web.tiktok.com/video/tos/useast2a/tos-useast2a-ve-0068c001/66573f5aa662414e96e76be6f3fbecfd/?a=1988&br=2...   \n",
       "\n",
       "  author.uniqueId  author.nickname  stats.diggCount  stats.shareCount  \\\n",
       "0   charlidamelio  charli d’amelio          3800000             77000   \n",
       "1   charlidamelio  charli d’amelio          3000000             44800   \n",
       "2   charlidamelio  charli d’amelio          1600000             21900   \n",
       "3   charlidamelio  charli d’amelio          2300000            142400   \n",
       "4   charlidamelio  charli d’amelio          2800000             32900   \n",
       "\n",
       "   stats.commentCount  stats.playCount  authorStats.followingCount  ...  \\\n",
       "0               89800         19600000                        1208  ...   \n",
       "1               72800         15200000                        1208  ...   \n",
       "2               29700          9400000                        1208  ...   \n",
       "3              108500         14100000                        1208  ...   \n",
       "4               58700         15600000                        1208  ...   \n",
       "\n",
       "   music.scheduleSearchTime  warnInfo  quarantine  coronavirus  vaccine  \\\n",
       "0                       NaN       NaN           0            0        0   \n",
       "1                       NaN       NaN           0            0        1   \n",
       "2                       NaN       NaN           0            0        0   \n",
       "3                       NaN       NaN           0            0        0   \n",
       "4                       NaN       NaN           0            0        0   \n",
       "\n",
       "  staysafe stayhome  covid19 covid sum  \n",
       "0        0        0        0     0   0  \n",
       "1        0        0        0     0   1  \n",
       "2        0        0        0     0   0  \n",
       "3        0        0        0     0   0  \n",
       "4        0        0        0     0   0  \n",
       "\n",
       "[5 rows x 88 columns]"
      ]
     },
     "execution_count": 145,
     "metadata": {},
     "output_type": "execute_result"
    }
   ],
   "source": [
    "covid = covid.rename(columns={0: 'sum'})\n",
    "covid.head()"
   ]
  },
  {
   "cell_type": "markdown",
   "metadata": {},
   "source": [
    "Classification of posts in related to covid and unrelated."
   ]
  },
  {
   "cell_type": "code",
   "execution_count": 146,
   "metadata": {},
   "outputs": [],
   "source": [
    "def classification(data):\n",
    "    if data < 1:\n",
    "        classes = \"no covid\"\n",
    "    else:\n",
    "        classes = \"covid\"\n",
    "    return classes"
   ]
  },
  {
   "cell_type": "code",
   "execution_count": 147,
   "metadata": {},
   "outputs": [],
   "source": [
    "covid['class'] = covid['sum'].apply(lambda x: classification(x))"
   ]
  },
  {
   "cell_type": "code",
   "execution_count": 148,
   "metadata": {},
   "outputs": [
    {
     "data": {
      "text/plain": [
       "no covid    4324\n",
       "covid         62\n",
       "Name: class, dtype: int64"
      ]
     },
     "execution_count": 148,
     "metadata": {},
     "output_type": "execute_result"
    }
   ],
   "source": [
    "covid['class'].value_counts()"
   ]
  },
  {
   "cell_type": "markdown",
   "metadata": {},
   "source": [
    "Apparently, only 62 videos out of 4386 talk about covid which is a reasonable number since COVID is not a hype on social media any more. Besides, even when the virus was on its peak, most of the creators did not change a lot their content and the related posts were limited."
   ]
  }
 ],
 "metadata": {
  "kernelspec": {
   "display_name": "Python 3",
   "language": "python",
   "name": "python3"
  },
  "language_info": {
   "codemirror_mode": {
    "name": "ipython",
    "version": 3
   },
   "file_extension": ".py",
   "mimetype": "text/x-python",
   "name": "python",
   "nbconvert_exporter": "python",
   "pygments_lexer": "ipython3",
   "version": "3.8.5"
  }
 },
 "nbformat": 4,
 "nbformat_minor": 4
}
